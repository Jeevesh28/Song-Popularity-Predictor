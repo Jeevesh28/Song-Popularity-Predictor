{
  "nbformat": 4,
  "nbformat_minor": 0,
  "metadata": {
    "colab": {
      "name": "Open IIT Data Analytics 2020-21",
      "provenance": [],
      "collapsed_sections": [],
      "mount_file_id": "14XKY4_WnGWafR5He1rTnckyH2sY-Py45",
      "authorship_tag": "ABX9TyPVAa/KZP8lU3E7PXwWygTE",
      "include_colab_link": true
    },
    "kernelspec": {
      "name": "python3",
      "display_name": "Python 3"
    },
    "language_info": {
      "name": "python"
    },
    "accelerator": "GPU"
  },
  "cells": [
    {
      "cell_type": "markdown",
      "metadata": {
        "id": "view-in-github",
        "colab_type": "text"
      },
      "source": [
        "<a href=\"https://colab.research.google.com/github/Jeevesh28/Song-Popularity-Predictor/blob/main/Open_IIT_Data_Analytics_2020_21.ipynb\" target=\"_parent\"><img src=\"https://colab.research.google.com/assets/colab-badge.svg\" alt=\"Open In Colab\"/></a>"
      ]
    },
    {
      "cell_type": "markdown",
      "metadata": {
        "id": "edpD8iHNBrgE"
      },
      "source": [
        "### **Importing Libraries and Data:**"
      ]
    },
    {
      "cell_type": "code",
      "metadata": {
        "id": "nSDO0Ex6qWNg"
      },
      "source": [
        "import numpy as np\n",
        "import pandas as pd\n",
        "import warnings\n",
        "warnings.filterwarnings(\"ignore\")\n",
        "from pandas.core.common import SettingWithCopyWarning\n",
        "warnings.simplefilter(action=\"ignore\", category=SettingWithCopyWarning)\n",
        "import matplotlib.pyplot as plt\n",
        "import seaborn as sns"
      ],
      "execution_count": 1,
      "outputs": []
    },
    {
      "cell_type": "code",
      "metadata": {
        "id": "kvoO0sxvqaku",
        "colab": {
          "base_uri": "https://localhost:8080/",
          "height": 203
        },
        "outputId": "068d5807-e0e9-469e-a192-2c7cc63ab3f5"
      },
      "source": [
        "train_df = pd.read_csv(\"/content/drive/MyDrive/Data Analytics (Open IIT) 2020-21/openiit_train_data.csv\")\n",
        "train_df.head()"
      ],
      "execution_count": 2,
      "outputs": [
        {
          "output_type": "execute_result",
          "data": {
            "text/html": [
              "<div>\n",
              "<style scoped>\n",
              "    .dataframe tbody tr th:only-of-type {\n",
              "        vertical-align: middle;\n",
              "    }\n",
              "\n",
              "    .dataframe tbody tr th {\n",
              "        vertical-align: top;\n",
              "    }\n",
              "\n",
              "    .dataframe thead th {\n",
              "        text-align: right;\n",
              "    }\n",
              "</style>\n",
              "<table border=\"1\" class=\"dataframe\">\n",
              "  <thead>\n",
              "    <tr style=\"text-align: right;\">\n",
              "      <th></th>\n",
              "      <th>id</th>\n",
              "      <th>acousticness</th>\n",
              "      <th>danceability</th>\n",
              "      <th>energy</th>\n",
              "      <th>explicit</th>\n",
              "      <th>instrumentalness</th>\n",
              "      <th>key</th>\n",
              "      <th>liveness</th>\n",
              "      <th>loudness</th>\n",
              "      <th>mode</th>\n",
              "      <th>release_date</th>\n",
              "      <th>speechiness</th>\n",
              "      <th>tempo</th>\n",
              "      <th>valence</th>\n",
              "      <th>year</th>\n",
              "      <th>duration-min</th>\n",
              "      <th>popularity</th>\n",
              "    </tr>\n",
              "  </thead>\n",
              "  <tbody>\n",
              "    <tr>\n",
              "      <th>0</th>\n",
              "      <td>2015</td>\n",
              "      <td>0.949</td>\n",
              "      <td>0.235</td>\n",
              "      <td>0.0276</td>\n",
              "      <td>No</td>\n",
              "      <td>0.9270</td>\n",
              "      <td>5</td>\n",
              "      <td>0.513</td>\n",
              "      <td>-27.398</td>\n",
              "      <td>Major</td>\n",
              "      <td>01-01-1947</td>\n",
              "      <td>0.0381</td>\n",
              "      <td>110.838</td>\n",
              "      <td>0.0398</td>\n",
              "      <td>1947</td>\n",
              "      <td>3.0</td>\n",
              "      <td>very low</td>\n",
              "    </tr>\n",
              "    <tr>\n",
              "      <th>1</th>\n",
              "      <td>15901</td>\n",
              "      <td>0.855</td>\n",
              "      <td>0.456</td>\n",
              "      <td>0.4850</td>\n",
              "      <td>No</td>\n",
              "      <td>0.0884</td>\n",
              "      <td>4</td>\n",
              "      <td>0.151</td>\n",
              "      <td>-10.046</td>\n",
              "      <td>Major</td>\n",
              "      <td>13-11-2020</td>\n",
              "      <td>0.0437</td>\n",
              "      <td>152.066</td>\n",
              "      <td>0.8590</td>\n",
              "      <td>2020</td>\n",
              "      <td>2.4</td>\n",
              "      <td>low</td>\n",
              "    </tr>\n",
              "    <tr>\n",
              "      <th>2</th>\n",
              "      <td>9002</td>\n",
              "      <td>0.827</td>\n",
              "      <td>0.495</td>\n",
              "      <td>0.4990</td>\n",
              "      <td>No</td>\n",
              "      <td>0.0000</td>\n",
              "      <td>0</td>\n",
              "      <td>0.401</td>\n",
              "      <td>-8.009</td>\n",
              "      <td>Minor</td>\n",
              "      <td>01-01-1950</td>\n",
              "      <td>0.0474</td>\n",
              "      <td>108.004</td>\n",
              "      <td>0.7090</td>\n",
              "      <td>1950</td>\n",
              "      <td>2.6</td>\n",
              "      <td>very low</td>\n",
              "    </tr>\n",
              "    <tr>\n",
              "      <th>3</th>\n",
              "      <td>6734</td>\n",
              "      <td>0.654</td>\n",
              "      <td>0.643</td>\n",
              "      <td>0.4690</td>\n",
              "      <td>No</td>\n",
              "      <td>0.1080</td>\n",
              "      <td>7</td>\n",
              "      <td>0.218</td>\n",
              "      <td>-15.917</td>\n",
              "      <td>Major</td>\n",
              "      <td>30-04-1974</td>\n",
              "      <td>0.0368</td>\n",
              "      <td>83.636</td>\n",
              "      <td>0.9640</td>\n",
              "      <td>1974</td>\n",
              "      <td>2.4</td>\n",
              "      <td>low</td>\n",
              "    </tr>\n",
              "    <tr>\n",
              "      <th>4</th>\n",
              "      <td>15563</td>\n",
              "      <td>0.738</td>\n",
              "      <td>0.705</td>\n",
              "      <td>0.3110</td>\n",
              "      <td>No</td>\n",
              "      <td>0.0000</td>\n",
              "      <td>5</td>\n",
              "      <td>0.322</td>\n",
              "      <td>-12.344</td>\n",
              "      <td>Major</td>\n",
              "      <td>01-01-1973</td>\n",
              "      <td>0.0488</td>\n",
              "      <td>117.260</td>\n",
              "      <td>0.7850</td>\n",
              "      <td>1973</td>\n",
              "      <td>3.4</td>\n",
              "      <td>average</td>\n",
              "    </tr>\n",
              "  </tbody>\n",
              "</table>\n",
              "</div>"
            ],
            "text/plain": [
              "      id  acousticness  danceability  ...  year duration-min  popularity\n",
              "0   2015         0.949         0.235  ...  1947          3.0    very low\n",
              "1  15901         0.855         0.456  ...  2020          2.4         low\n",
              "2   9002         0.827         0.495  ...  1950          2.6    very low\n",
              "3   6734         0.654         0.643  ...  1974          2.4         low\n",
              "4  15563         0.738         0.705  ...  1973          3.4     average\n",
              "\n",
              "[5 rows x 17 columns]"
            ]
          },
          "metadata": {
            "tags": []
          },
          "execution_count": 2
        }
      ]
    },
    {
      "cell_type": "code",
      "metadata": {
        "id": "1RlcZw1UqcQL",
        "colab": {
          "base_uri": "https://localhost:8080/",
          "height": 203
        },
        "outputId": "64a0d84e-c068-4813-c35c-215850753584"
      },
      "source": [
        "test_df = pd.read_csv(\"/content/drive/MyDrive/Data Analytics (Open IIT) 2020-21/openiit_test_data.csv\")\n",
        "test_df.head()"
      ],
      "execution_count": 3,
      "outputs": [
        {
          "output_type": "execute_result",
          "data": {
            "text/html": [
              "<div>\n",
              "<style scoped>\n",
              "    .dataframe tbody tr th:only-of-type {\n",
              "        vertical-align: middle;\n",
              "    }\n",
              "\n",
              "    .dataframe tbody tr th {\n",
              "        vertical-align: top;\n",
              "    }\n",
              "\n",
              "    .dataframe thead th {\n",
              "        text-align: right;\n",
              "    }\n",
              "</style>\n",
              "<table border=\"1\" class=\"dataframe\">\n",
              "  <thead>\n",
              "    <tr style=\"text-align: right;\">\n",
              "      <th></th>\n",
              "      <th>id</th>\n",
              "      <th>acousticness</th>\n",
              "      <th>danceability</th>\n",
              "      <th>energy</th>\n",
              "      <th>explicit</th>\n",
              "      <th>instrumentalness</th>\n",
              "      <th>key</th>\n",
              "      <th>liveness</th>\n",
              "      <th>loudness</th>\n",
              "      <th>mode</th>\n",
              "      <th>release_date</th>\n",
              "      <th>speechiness</th>\n",
              "      <th>tempo</th>\n",
              "      <th>valence</th>\n",
              "      <th>year</th>\n",
              "      <th>duration-min</th>\n",
              "    </tr>\n",
              "  </thead>\n",
              "  <tbody>\n",
              "    <tr>\n",
              "      <th>0</th>\n",
              "      <td>4943</td>\n",
              "      <td>0.03360</td>\n",
              "      <td>0.523</td>\n",
              "      <td>0.861</td>\n",
              "      <td>No</td>\n",
              "      <td>0.000000</td>\n",
              "      <td>0</td>\n",
              "      <td>0.1440</td>\n",
              "      <td>-3.447</td>\n",
              "      <td>Major</td>\n",
              "      <td>01-01-2014</td>\n",
              "      <td>0.0644</td>\n",
              "      <td>127.049</td>\n",
              "      <td>0.346</td>\n",
              "      <td>2014</td>\n",
              "      <td>3.8</td>\n",
              "    </tr>\n",
              "    <tr>\n",
              "      <th>1</th>\n",
              "      <td>16165</td>\n",
              "      <td>0.76500</td>\n",
              "      <td>0.687</td>\n",
              "      <td>0.453</td>\n",
              "      <td>No</td>\n",
              "      <td>0.000008</td>\n",
              "      <td>7</td>\n",
              "      <td>0.0897</td>\n",
              "      <td>-11.649</td>\n",
              "      <td>Major</td>\n",
              "      <td>01-04-1972</td>\n",
              "      <td>0.0335</td>\n",
              "      <td>129.987</td>\n",
              "      <td>0.830</td>\n",
              "      <td>1972</td>\n",
              "      <td>3.8</td>\n",
              "    </tr>\n",
              "    <tr>\n",
              "      <th>2</th>\n",
              "      <td>6774</td>\n",
              "      <td>0.36300</td>\n",
              "      <td>0.536</td>\n",
              "      <td>0.640</td>\n",
              "      <td>No</td>\n",
              "      <td>0.000000</td>\n",
              "      <td>0</td>\n",
              "      <td>0.0948</td>\n",
              "      <td>-5.862</td>\n",
              "      <td>Major</td>\n",
              "      <td>02-06-1998</td>\n",
              "      <td>0.0368</td>\n",
              "      <td>142.483</td>\n",
              "      <td>0.289</td>\n",
              "      <td>1998</td>\n",
              "      <td>4.4</td>\n",
              "    </tr>\n",
              "    <tr>\n",
              "      <th>3</th>\n",
              "      <td>9959</td>\n",
              "      <td>0.00463</td>\n",
              "      <td>0.890</td>\n",
              "      <td>0.617</td>\n",
              "      <td>No</td>\n",
              "      <td>0.003850</td>\n",
              "      <td>2</td>\n",
              "      <td>0.0291</td>\n",
              "      <td>-12.096</td>\n",
              "      <td>Minor</td>\n",
              "      <td>08-09-1980</td>\n",
              "      <td>0.0418</td>\n",
              "      <td>121.126</td>\n",
              "      <td>0.970</td>\n",
              "      <td>1980</td>\n",
              "      <td>3.9</td>\n",
              "    </tr>\n",
              "    <tr>\n",
              "      <th>4</th>\n",
              "      <td>13818</td>\n",
              "      <td>0.00187</td>\n",
              "      <td>0.555</td>\n",
              "      <td>0.943</td>\n",
              "      <td>No</td>\n",
              "      <td>0.000042</td>\n",
              "      <td>2</td>\n",
              "      <td>0.1510</td>\n",
              "      <td>-2.492</td>\n",
              "      <td>Major</td>\n",
              "      <td>17-04-2007</td>\n",
              "      <td>0.0891</td>\n",
              "      <td>165.026</td>\n",
              "      <td>0.882</td>\n",
              "      <td>2007</td>\n",
              "      <td>3.2</td>\n",
              "    </tr>\n",
              "  </tbody>\n",
              "</table>\n",
              "</div>"
            ],
            "text/plain": [
              "      id  acousticness  danceability  ...  valence  year  duration-min\n",
              "0   4943       0.03360         0.523  ...    0.346  2014           3.8\n",
              "1  16165       0.76500         0.687  ...    0.830  1972           3.8\n",
              "2   6774       0.36300         0.536  ...    0.289  1998           4.4\n",
              "3   9959       0.00463         0.890  ...    0.970  1980           3.9\n",
              "4  13818       0.00187         0.555  ...    0.882  2007           3.2\n",
              "\n",
              "[5 rows x 16 columns]"
            ]
          },
          "metadata": {
            "tags": []
          },
          "execution_count": 3
        }
      ]
    },
    {
      "cell_type": "markdown",
      "metadata": {
        "id": "wGCDh-pXBjRB"
      },
      "source": [
        "### **EDA and Statistics Checking:**"
      ]
    },
    {
      "cell_type": "code",
      "metadata": {
        "id": "_iiiNTEGrrpc",
        "colab": {
          "base_uri": "https://localhost:8080/"
        },
        "outputId": "d04bc14e-94d0-4446-b38a-33a256b9e370"
      },
      "source": [
        "print('Train data contains: ' + str(train_df.shape[0]) + ' rows and ' + str(train_df.shape[1]) + ' columns')\n",
        "print('Column Names are:\\n', train_df.columns)"
      ],
      "execution_count": 4,
      "outputs": [
        {
          "output_type": "stream",
          "text": [
            "Train data contains: 12227 rows and 17 columns\n",
            "Column Names are:\n",
            " Index(['id', 'acousticness', 'danceability', 'energy', 'explicit',\n",
            "       'instrumentalness', 'key', 'liveness', 'loudness', 'mode',\n",
            "       'release_date', 'speechiness', 'tempo', 'valence', 'year',\n",
            "       'duration-min', 'popularity'],\n",
            "      dtype='object')\n"
          ],
          "name": "stdout"
        }
      ]
    },
    {
      "cell_type": "code",
      "metadata": {
        "id": "YIoOQZPIqfnu",
        "colab": {
          "base_uri": "https://localhost:8080/"
        },
        "outputId": "0b83ccd9-de95-49ae-c198-0c7b0cc3b536"
      },
      "source": [
        "train_df['popularity'].value_counts()"
      ],
      "execution_count": 5,
      "outputs": [
        {
          "output_type": "execute_result",
          "data": {
            "text/plain": [
              "very low     3222\n",
              "low          3118\n",
              "average      2912\n",
              "high         2606\n",
              "very high     369\n",
              "Name: popularity, dtype: int64"
            ]
          },
          "metadata": {
            "tags": []
          },
          "execution_count": 5
        }
      ]
    },
    {
      "cell_type": "code",
      "metadata": {
        "id": "XIOGa0kErtkp",
        "colab": {
          "base_uri": "https://localhost:8080/"
        },
        "outputId": "00bc87f3-6757-4215-b9c6-c3096dfc192f"
      },
      "source": [
        "train_df.apply(lambda x : len(x.unique()))"
      ],
      "execution_count": 6,
      "outputs": [
        {
          "output_type": "execute_result",
          "data": {
            "text/plain": [
              "id                  12227\n",
              "acousticness         2714\n",
              "danceability          898\n",
              "energy               1396\n",
              "explicit                2\n",
              "instrumentalness     3658\n",
              "key                    12\n",
              "liveness             1477\n",
              "loudness             8718\n",
              "mode                    2\n",
              "release_date         3859\n",
              "speechiness          1275\n",
              "tempo               11264\n",
              "valence              1256\n",
              "year                  102\n",
              "duration-min          172\n",
              "popularity              5\n",
              "dtype: int64"
            ]
          },
          "metadata": {
            "tags": []
          },
          "execution_count": 6
        }
      ]
    },
    {
      "cell_type": "code",
      "metadata": {
        "id": "20ul2Jkjrpu-",
        "colab": {
          "base_uri": "https://localhost:8080/"
        },
        "outputId": "8f65653f-8d27-4e9e-ce79-dd94ca966a0c"
      },
      "source": [
        "train_df.info()"
      ],
      "execution_count": 7,
      "outputs": [
        {
          "output_type": "stream",
          "text": [
            "<class 'pandas.core.frame.DataFrame'>\n",
            "RangeIndex: 12227 entries, 0 to 12226\n",
            "Data columns (total 17 columns):\n",
            " #   Column            Non-Null Count  Dtype  \n",
            "---  ------            --------------  -----  \n",
            " 0   id                12227 non-null  int64  \n",
            " 1   acousticness      12227 non-null  float64\n",
            " 2   danceability      12227 non-null  float64\n",
            " 3   energy            12227 non-null  float64\n",
            " 4   explicit          12227 non-null  object \n",
            " 5   instrumentalness  12227 non-null  float64\n",
            " 6   key               12227 non-null  int64  \n",
            " 7   liveness          12227 non-null  float64\n",
            " 8   loudness          12227 non-null  float64\n",
            " 9   mode              12227 non-null  object \n",
            " 10  release_date      12227 non-null  object \n",
            " 11  speechiness       12227 non-null  float64\n",
            " 12  tempo             12227 non-null  float64\n",
            " 13  valence           12227 non-null  float64\n",
            " 14  year              12227 non-null  int64  \n",
            " 15  duration-min      12227 non-null  float64\n",
            " 16  popularity        12227 non-null  object \n",
            "dtypes: float64(10), int64(3), object(4)\n",
            "memory usage: 1.6+ MB\n"
          ],
          "name": "stdout"
        }
      ]
    },
    {
      "cell_type": "code",
      "metadata": {
        "id": "JUPs3t-U3ytX"
      },
      "source": [
        "train_df.drop('id', axis = 1, inplace = True)\n",
        "test_df.drop('id', axis = 1, inplace = True)"
      ],
      "execution_count": 8,
      "outputs": []
    },
    {
      "cell_type": "code",
      "metadata": {
        "id": "wyTWYoYorvb0",
        "colab": {
          "base_uri": "https://localhost:8080/",
          "height": 295
        },
        "outputId": "aee98fc0-eefc-4aca-b6a4-01168ac0bf4b"
      },
      "source": [
        "train_df.describe()"
      ],
      "execution_count": 9,
      "outputs": [
        {
          "output_type": "execute_result",
          "data": {
            "text/html": [
              "<div>\n",
              "<style scoped>\n",
              "    .dataframe tbody tr th:only-of-type {\n",
              "        vertical-align: middle;\n",
              "    }\n",
              "\n",
              "    .dataframe tbody tr th {\n",
              "        vertical-align: top;\n",
              "    }\n",
              "\n",
              "    .dataframe thead th {\n",
              "        text-align: right;\n",
              "    }\n",
              "</style>\n",
              "<table border=\"1\" class=\"dataframe\">\n",
              "  <thead>\n",
              "    <tr style=\"text-align: right;\">\n",
              "      <th></th>\n",
              "      <th>acousticness</th>\n",
              "      <th>danceability</th>\n",
              "      <th>energy</th>\n",
              "      <th>instrumentalness</th>\n",
              "      <th>key</th>\n",
              "      <th>liveness</th>\n",
              "      <th>loudness</th>\n",
              "      <th>speechiness</th>\n",
              "      <th>tempo</th>\n",
              "      <th>valence</th>\n",
              "      <th>year</th>\n",
              "      <th>duration-min</th>\n",
              "    </tr>\n",
              "  </thead>\n",
              "  <tbody>\n",
              "    <tr>\n",
              "      <th>count</th>\n",
              "      <td>12227.000000</td>\n",
              "      <td>12227.000000</td>\n",
              "      <td>12227.000000</td>\n",
              "      <td>12227.000000</td>\n",
              "      <td>12227.000000</td>\n",
              "      <td>12227.000000</td>\n",
              "      <td>12227.000000</td>\n",
              "      <td>12227.000000</td>\n",
              "      <td>12227.000000</td>\n",
              "      <td>12227.000000</td>\n",
              "      <td>12227.000000</td>\n",
              "      <td>12227.000000</td>\n",
              "    </tr>\n",
              "    <tr>\n",
              "      <th>mean</th>\n",
              "      <td>0.430578</td>\n",
              "      <td>0.556353</td>\n",
              "      <td>0.522129</td>\n",
              "      <td>0.149321</td>\n",
              "      <td>5.205202</td>\n",
              "      <td>0.201365</td>\n",
              "      <td>-10.668687</td>\n",
              "      <td>0.097680</td>\n",
              "      <td>118.167495</td>\n",
              "      <td>0.525300</td>\n",
              "      <td>1984.517298</td>\n",
              "      <td>3.888133</td>\n",
              "    </tr>\n",
              "    <tr>\n",
              "      <th>std</th>\n",
              "      <td>0.366893</td>\n",
              "      <td>0.175373</td>\n",
              "      <td>0.262482</td>\n",
              "      <td>0.297954</td>\n",
              "      <td>3.526954</td>\n",
              "      <td>0.173987</td>\n",
              "      <td>5.506888</td>\n",
              "      <td>0.155895</td>\n",
              "      <td>30.200064</td>\n",
              "      <td>0.258205</td>\n",
              "      <td>25.911998</td>\n",
              "      <td>2.383133</td>\n",
              "    </tr>\n",
              "    <tr>\n",
              "      <th>min</th>\n",
              "      <td>0.000001</td>\n",
              "      <td>0.000000</td>\n",
              "      <td>0.000020</td>\n",
              "      <td>0.000000</td>\n",
              "      <td>0.000000</td>\n",
              "      <td>0.014700</td>\n",
              "      <td>-43.738000</td>\n",
              "      <td>0.000000</td>\n",
              "      <td>0.000000</td>\n",
              "      <td>0.000000</td>\n",
              "      <td>1920.000000</td>\n",
              "      <td>0.200000</td>\n",
              "    </tr>\n",
              "    <tr>\n",
              "      <th>25%</th>\n",
              "      <td>0.058950</td>\n",
              "      <td>0.438000</td>\n",
              "      <td>0.303000</td>\n",
              "      <td>0.000000</td>\n",
              "      <td>2.000000</td>\n",
              "      <td>0.096200</td>\n",
              "      <td>-13.656000</td>\n",
              "      <td>0.034700</td>\n",
              "      <td>95.050500</td>\n",
              "      <td>0.321000</td>\n",
              "      <td>1966.000000</td>\n",
              "      <td>2.900000</td>\n",
              "    </tr>\n",
              "    <tr>\n",
              "      <th>50%</th>\n",
              "      <td>0.354000</td>\n",
              "      <td>0.569000</td>\n",
              "      <td>0.534000</td>\n",
              "      <td>0.000115</td>\n",
              "      <td>5.000000</td>\n",
              "      <td>0.132000</td>\n",
              "      <td>-9.584000</td>\n",
              "      <td>0.045600</td>\n",
              "      <td>116.915000</td>\n",
              "      <td>0.532000</td>\n",
              "      <td>1987.000000</td>\n",
              "      <td>3.600000</td>\n",
              "    </tr>\n",
              "    <tr>\n",
              "      <th>75%</th>\n",
              "      <td>0.805000</td>\n",
              "      <td>0.685000</td>\n",
              "      <td>0.739000</td>\n",
              "      <td>0.055650</td>\n",
              "      <td>8.000000</td>\n",
              "      <td>0.252000</td>\n",
              "      <td>-6.571500</td>\n",
              "      <td>0.078900</td>\n",
              "      <td>136.108500</td>\n",
              "      <td>0.737000</td>\n",
              "      <td>2008.000000</td>\n",
              "      <td>4.400000</td>\n",
              "    </tr>\n",
              "    <tr>\n",
              "      <th>max</th>\n",
              "      <td>0.996000</td>\n",
              "      <td>0.980000</td>\n",
              "      <td>1.000000</td>\n",
              "      <td>1.000000</td>\n",
              "      <td>11.000000</td>\n",
              "      <td>0.997000</td>\n",
              "      <td>1.006000</td>\n",
              "      <td>0.968000</td>\n",
              "      <td>216.843000</td>\n",
              "      <td>1.000000</td>\n",
              "      <td>2021.000000</td>\n",
              "      <td>72.800000</td>\n",
              "    </tr>\n",
              "  </tbody>\n",
              "</table>\n",
              "</div>"
            ],
            "text/plain": [
              "       acousticness  danceability  ...          year  duration-min\n",
              "count  12227.000000  12227.000000  ...  12227.000000  12227.000000\n",
              "mean       0.430578      0.556353  ...   1984.517298      3.888133\n",
              "std        0.366893      0.175373  ...     25.911998      2.383133\n",
              "min        0.000001      0.000000  ...   1920.000000      0.200000\n",
              "25%        0.058950      0.438000  ...   1966.000000      2.900000\n",
              "50%        0.354000      0.569000  ...   1987.000000      3.600000\n",
              "75%        0.805000      0.685000  ...   2008.000000      4.400000\n",
              "max        0.996000      0.980000  ...   2021.000000     72.800000\n",
              "\n",
              "[8 rows x 12 columns]"
            ]
          },
          "metadata": {
            "tags": []
          },
          "execution_count": 9
        }
      ]
    },
    {
      "cell_type": "code",
      "metadata": {
        "id": "0eMjlcoUrxAS",
        "colab": {
          "base_uri": "https://localhost:8080/",
          "height": 607
        },
        "outputId": "ab593393-dbcc-4049-b73f-2ea19cc81162"
      },
      "source": [
        "train_df.hist(figsize = (10,10));"
      ],
      "execution_count": 10,
      "outputs": [
        {
          "output_type": "display_data",
          "data": {
            "image/png": "[encoded data removed]",
            "text/plain": [
              "<Figure size 720x720 with 12 Axes>"
            ]
          },
          "metadata": {
            "tags": [],
            "needs_background": "light"
          }
        }
      ]
    },
    {
      "cell_type": "code",
      "metadata": {
        "id": "TbDcueyNryz6",
        "colab": {
          "base_uri": "https://localhost:8080/",
          "height": 672
        },
        "outputId": "760e8e56-50df-477f-fa05-90b9588c6190"
      },
      "source": [
        "plt.figure(figsize=(15, 10))\n",
        "sns.heatmap(train_df.corr().round(2), annot = True, linewidths=0.2, cmap = \"YlGnBu\");"
      ],
      "execution_count": 11,
      "outputs": [
        {
          "output_type": "display_data",
          "data": {
            "image/png": "[encoded data removed]",
            "text/plain": [
              "<Figure size 1080x720 with 2 Axes>"
            ]
          },
          "metadata": {
            "tags": [],
            "needs_background": "light"
          }
        }
      ]
    },
    {
      "cell_type": "code",
      "metadata": {
        "id": "BoGHLVN_3l2n"
      },
      "source": [
        "stats = train_df.copy()"
      ],
      "execution_count": 12,
      "outputs": []
    },
    {
      "cell_type": "code",
      "metadata": {
        "id": "1NhL1TVOruAc"
      },
      "source": [
        "stats.drop(['release_date'], axis = 1, inplace = True)"
      ],
      "execution_count": 13,
      "outputs": []
    },
    {
      "cell_type": "code",
      "metadata": {
        "id": "WzAegm70qkXq"
      },
      "source": [
        "from sklearn.preprocessing import LabelEncoder\n",
        "stats['mode'] = LabelEncoder().fit_transform(stats['mode'])\n",
        "stats['explicit'] = LabelEncoder().fit_transform(stats['explicit'])\n",
        "stats['popularity'] = LabelEncoder().fit_transform(stats['popularity'])"
      ],
      "execution_count": 14,
      "outputs": []
    },
    {
      "cell_type": "code",
      "metadata": {
        "id": "6ZUSVOog_f-_"
      },
      "source": [
        "stats = abs(stats)"
      ],
      "execution_count": 15,
      "outputs": []
    },
    {
      "cell_type": "code",
      "metadata": {
        "colab": {
          "base_uri": "https://localhost:8080/",
          "height": 203
        },
        "id": "4fCVFB7L4Uvb",
        "outputId": "9d141811-09b4-413e-90e2-67fbce1e1bc9"
      },
      "source": [
        "stats.head()"
      ],
      "execution_count": 16,
      "outputs": [
        {
          "output_type": "execute_result",
          "data": {
            "text/html": [
              "<div>\n",
              "<style scoped>\n",
              "    .dataframe tbody tr th:only-of-type {\n",
              "        vertical-align: middle;\n",
              "    }\n",
              "\n",
              "    .dataframe tbody tr th {\n",
              "        vertical-align: top;\n",
              "    }\n",
              "\n",
              "    .dataframe thead th {\n",
              "        text-align: right;\n",
              "    }\n",
              "</style>\n",
              "<table border=\"1\" class=\"dataframe\">\n",
              "  <thead>\n",
              "    <tr style=\"text-align: right;\">\n",
              "      <th></th>\n",
              "      <th>acousticness</th>\n",
              "      <th>danceability</th>\n",
              "      <th>energy</th>\n",
              "      <th>explicit</th>\n",
              "      <th>instrumentalness</th>\n",
              "      <th>key</th>\n",
              "      <th>liveness</th>\n",
              "      <th>loudness</th>\n",
              "      <th>mode</th>\n",
              "      <th>speechiness</th>\n",
              "      <th>tempo</th>\n",
              "      <th>valence</th>\n",
              "      <th>year</th>\n",
              "      <th>duration-min</th>\n",
              "      <th>popularity</th>\n",
              "    </tr>\n",
              "  </thead>\n",
              "  <tbody>\n",
              "    <tr>\n",
              "      <th>0</th>\n",
              "      <td>0.949</td>\n",
              "      <td>0.235</td>\n",
              "      <td>0.0276</td>\n",
              "      <td>0.0</td>\n",
              "      <td>0.9270</td>\n",
              "      <td>5.0</td>\n",
              "      <td>0.513</td>\n",
              "      <td>27.398</td>\n",
              "      <td>0.0</td>\n",
              "      <td>0.0381</td>\n",
              "      <td>110.838</td>\n",
              "      <td>0.0398</td>\n",
              "      <td>1947.0</td>\n",
              "      <td>3.0</td>\n",
              "      <td>4.0</td>\n",
              "    </tr>\n",
              "    <tr>\n",
              "      <th>1</th>\n",
              "      <td>0.855</td>\n",
              "      <td>0.456</td>\n",
              "      <td>0.4850</td>\n",
              "      <td>0.0</td>\n",
              "      <td>0.0884</td>\n",
              "      <td>4.0</td>\n",
              "      <td>0.151</td>\n",
              "      <td>10.046</td>\n",
              "      <td>0.0</td>\n",
              "      <td>0.0437</td>\n",
              "      <td>152.066</td>\n",
              "      <td>0.8590</td>\n",
              "      <td>2020.0</td>\n",
              "      <td>2.4</td>\n",
              "      <td>2.0</td>\n",
              "    </tr>\n",
              "    <tr>\n",
              "      <th>2</th>\n",
              "      <td>0.827</td>\n",
              "      <td>0.495</td>\n",
              "      <td>0.4990</td>\n",
              "      <td>0.0</td>\n",
              "      <td>0.0000</td>\n",
              "      <td>0.0</td>\n",
              "      <td>0.401</td>\n",
              "      <td>8.009</td>\n",
              "      <td>1.0</td>\n",
              "      <td>0.0474</td>\n",
              "      <td>108.004</td>\n",
              "      <td>0.7090</td>\n",
              "      <td>1950.0</td>\n",
              "      <td>2.6</td>\n",
              "      <td>4.0</td>\n",
              "    </tr>\n",
              "    <tr>\n",
              "      <th>3</th>\n",
              "      <td>0.654</td>\n",
              "      <td>0.643</td>\n",
              "      <td>0.4690</td>\n",
              "      <td>0.0</td>\n",
              "      <td>0.1080</td>\n",
              "      <td>7.0</td>\n",
              "      <td>0.218</td>\n",
              "      <td>15.917</td>\n",
              "      <td>0.0</td>\n",
              "      <td>0.0368</td>\n",
              "      <td>83.636</td>\n",
              "      <td>0.9640</td>\n",
              "      <td>1974.0</td>\n",
              "      <td>2.4</td>\n",
              "      <td>2.0</td>\n",
              "    </tr>\n",
              "    <tr>\n",
              "      <th>4</th>\n",
              "      <td>0.738</td>\n",
              "      <td>0.705</td>\n",
              "      <td>0.3110</td>\n",
              "      <td>0.0</td>\n",
              "      <td>0.0000</td>\n",
              "      <td>5.0</td>\n",
              "      <td>0.322</td>\n",
              "      <td>12.344</td>\n",
              "      <td>0.0</td>\n",
              "      <td>0.0488</td>\n",
              "      <td>117.260</td>\n",
              "      <td>0.7850</td>\n",
              "      <td>1973.0</td>\n",
              "      <td>3.4</td>\n",
              "      <td>0.0</td>\n",
              "    </tr>\n",
              "  </tbody>\n",
              "</table>\n",
              "</div>"
            ],
            "text/plain": [
              "   acousticness  danceability  energy  ...    year  duration-min  popularity\n",
              "0         0.949         0.235  0.0276  ...  1947.0           3.0         4.0\n",
              "1         0.855         0.456  0.4850  ...  2020.0           2.4         2.0\n",
              "2         0.827         0.495  0.4990  ...  1950.0           2.6         4.0\n",
              "3         0.654         0.643  0.4690  ...  1974.0           2.4         2.0\n",
              "4         0.738         0.705  0.3110  ...  1973.0           3.4         0.0\n",
              "\n",
              "[5 rows x 15 columns]"
            ]
          },
          "metadata": {
            "tags": []
          },
          "execution_count": 16
        }
      ]
    },
    {
      "cell_type": "code",
      "metadata": {
        "id": "N08DUaTGraGf"
      },
      "source": [
        "X_data = stats.iloc[:, :-1]"
      ],
      "execution_count": 17,
      "outputs": []
    },
    {
      "cell_type": "code",
      "metadata": {
        "id": "zS4sc35drXHS"
      },
      "source": [
        "Y_data = stats.iloc[:, -1]"
      ],
      "execution_count": 18,
      "outputs": []
    },
    {
      "cell_type": "code",
      "metadata": {
        "id": "HPx-IEthrb-6",
        "colab": {
          "base_uri": "https://localhost:8080/"
        },
        "outputId": "b4ba73bf-d00d-441b-831d-04d2c35407f6"
      },
      "source": [
        "from sklearn.feature_selection import SelectKBest\n",
        "from sklearn.feature_selection import chi2, f_classif, mutual_info_classif\n",
        "data = train_df\n",
        "X = X_data\n",
        "y = Y_data  \n",
        "bestfeatures = SelectKBest(score_func=chi2, k= 'all')\n",
        "fit = bestfeatures.fit(X,y)\n",
        "dfscores = pd.DataFrame(fit.scores_)\n",
        "dfcolumns = pd.DataFrame(X.columns)\n",
        "featureScores = pd.concat([dfcolumns,dfscores],axis=1)\n",
        "featureScores.columns = ['Specs','Score']  \n",
        "print(featureScores.nlargest(10,'Score'))  "
      ],
      "execution_count": 19,
      "outputs": [
        {
          "output_type": "stream",
          "text": [
            "               Specs        Score\n",
            "7           loudness  5980.503233\n",
            "12              year  1675.518511\n",
            "3           explicit   979.745149\n",
            "4   instrumentalness   805.665282\n",
            "0       acousticness   717.234276\n",
            "10             tempo   666.133891\n",
            "2             energy   196.116615\n",
            "9        speechiness   147.213313\n",
            "13      duration-min    75.233076\n",
            "8               mode    39.986979\n"
          ],
          "name": "stdout"
        }
      ]
    },
    {
      "cell_type": "code",
      "metadata": {
        "id": "xP6kIILerdpU",
        "colab": {
          "base_uri": "https://localhost:8080/"
        },
        "outputId": "a0dda7a3-25dc-4eed-bdef-345263d24609"
      },
      "source": [
        "from sklearn.feature_selection import SelectKBest\n",
        "from sklearn.feature_selection import chi2, f_classif, mutual_info_classif\n",
        "data = train_df\n",
        "X = X_data \n",
        "y = Y_data   \n",
        "bestfeatures = SelectKBest(score_func=f_classif, k= 'all')\n",
        "fit = bestfeatures.fit(X,y)\n",
        "dfscores = pd.DataFrame(fit.scores_)\n",
        "dfcolumns = pd.DataFrame(X.columns)\n",
        "featureScores = pd.concat([dfcolumns,dfscores],axis=1)\n",
        "featureScores.columns = ['Specs','Score']  \n",
        "print(featureScores.nlargest(10,'Score')) "
      ],
      "execution_count": 20,
      "outputs": [
        {
          "output_type": "stream",
          "text": [
            "               Specs        Score\n",
            "12              year  2080.300532\n",
            "0       acousticness   705.813139\n",
            "7           loudness   635.212415\n",
            "2             energy   422.843907\n",
            "4   instrumentalness   380.883475\n",
            "3           explicit   301.585175\n",
            "1       danceability   173.956579\n",
            "9        speechiness   155.392881\n",
            "6           liveness    35.511399\n",
            "11           valence    22.753811\n"
          ],
          "name": "stdout"
        }
      ]
    },
    {
      "cell_type": "code",
      "metadata": {
        "id": "6_dVwSqHrfEg",
        "colab": {
          "base_uri": "https://localhost:8080/"
        },
        "outputId": "e2b8b26c-9507-4f7e-aec1-0f121ad02d91"
      },
      "source": [
        "from sklearn.feature_selection import SelectKBest\n",
        "from sklearn.feature_selection import chi2, f_classif, mutual_info_classif\n",
        "data = train_df\n",
        "X = X_data\n",
        "y = Y_data   \n",
        "bestfeatures = SelectKBest(score_func=mutual_info_classif, k= 'all')\n",
        "fit = bestfeatures.fit(X,y)\n",
        "dfscores = pd.DataFrame(fit.scores_)\n",
        "dfcolumns = pd.DataFrame(X.columns)\n",
        "featureScores = pd.concat([dfcolumns,dfscores],axis=1)\n",
        "featureScores.columns = ['Specs','Score']  \n",
        "print(featureScores.nlargest(10,'Score')) "
      ],
      "execution_count": 21,
      "outputs": [
        {
          "output_type": "stream",
          "text": [
            "               Specs     Score\n",
            "12              year  0.563831\n",
            "0       acousticness  0.137062\n",
            "7           loudness  0.115340\n",
            "4   instrumentalness  0.087938\n",
            "2             energy  0.081075\n",
            "13      duration-min  0.072789\n",
            "10             tempo  0.068400\n",
            "9        speechiness  0.053183\n",
            "1       danceability  0.037766\n",
            "3           explicit  0.032554\n"
          ],
          "name": "stdout"
        }
      ]
    },
    {
      "cell_type": "code",
      "metadata": {
        "id": "jf43qjw0rhff",
        "colab": {
          "base_uri": "https://localhost:8080/",
          "height": 315
        },
        "outputId": "2d11f8bb-e35e-4df1-e28e-6cc882967b46"
      },
      "source": [
        "X = X_data \n",
        "y = Y_data    \n",
        "from xgboost import XGBClassifier\n",
        "import matplotlib.pyplot as plt\n",
        "model = XGBClassifier()\n",
        "model.fit(X,y)\n",
        "print(model.feature_importances_) \n",
        "feat_importances = pd.Series(model.feature_importances_, index=X.columns)\n",
        "feat_importances.nlargest(10).plot(kind='barh')\n",
        "plt.show()"
      ],
      "execution_count": 22,
      "outputs": [
        {
          "output_type": "stream",
          "text": [
            "[0.03116641 0.02962268 0.03700556 0.08252462 0.12498511 0.01167935\n",
            " 0.03369593 0.03213377 0.01083734 0.02565999 0.02273731 0.02951304\n",
            " 0.48735103 0.04108782]\n"
          ],
          "name": "stdout"
        },
        {
          "output_type": "display_data",
          "data": {
            "image/png": "[encoded data removed]",
            "text/plain": [
              "<Figure size 432x288 with 1 Axes>"
            ]
          },
          "metadata": {
            "tags": [],
            "needs_background": "light"
          }
        }
      ]
    },
    {
      "cell_type": "code",
      "metadata": {
        "id": "RplHhM92riQ7",
        "colab": {
          "base_uri": "https://localhost:8080/",
          "height": 315
        },
        "outputId": "1eb064e7-dc74-447d-95f2-7cb80faa1485"
      },
      "source": [
        "X = X_data  \n",
        "y = Y_data    \n",
        "from sklearn.ensemble import RandomForestClassifier\n",
        "import matplotlib.pyplot as plt\n",
        "model = RandomForestClassifier()\n",
        "model.fit(X,y)\n",
        "print(model.feature_importances_) \n",
        "feat_importances = pd.Series(model.feature_importances_, index=X.columns)\n",
        "feat_importances.nlargest(10).plot(kind='barh')\n",
        "plt.show()"
      ],
      "execution_count": 23,
      "outputs": [
        {
          "output_type": "stream",
          "text": [
            "[0.09245612 0.06248663 0.07217951 0.0101033  0.06239967 0.03617937\n",
            " 0.06017999 0.08228524 0.00952812 0.06823558 0.05885625 0.06163711\n",
            " 0.26384284 0.05963027]\n"
          ],
          "name": "stdout"
        },
        {
          "output_type": "display_data",
          "data": {
            "image/png": "[encoded data removed]",
            "text/plain": [
              "<Figure size 432x288 with 1 Axes>"
            ]
          },
          "metadata": {
            "tags": [],
            "needs_background": "light"
          }
        }
      ]
    },
    {
      "cell_type": "code",
      "metadata": {
        "id": "2SebyRXDrlng",
        "colab": {
          "base_uri": "https://localhost:8080/",
          "height": 282
        },
        "outputId": "c9041dd9-f02f-4d81-911e-0956c3d32129"
      },
      "source": [
        "X = X_data\n",
        "y = Y_data   \n",
        "from sklearn.ensemble import AdaBoostClassifier\n",
        "import matplotlib.pyplot as plt\n",
        "model = AdaBoostClassifier()\n",
        "model.fit(X,y)\n",
        "print(model.feature_importances_) \n",
        "feat_importances = pd.Series(model.feature_importances_, index=X.columns)\n",
        "feat_importances.nlargest(10).plot(kind='barh')\n",
        "plt.show();"
      ],
      "execution_count": 24,
      "outputs": [
        {
          "output_type": "stream",
          "text": [
            "[0.06 0.06 0.1  0.   0.02 0.   0.06 0.1  0.02 0.02 0.08 0.04 0.4  0.04]\n"
          ],
          "name": "stdout"
        },
        {
          "output_type": "display_data",
          "data": {
            "image/png": "[encoded data removed]",
            "text/plain": [
              "<Figure size 432x288 with 1 Axes>"
            ]
          },
          "metadata": {
            "tags": [],
            "needs_background": "light"
          }
        }
      ]
    },
    {
      "cell_type": "code",
      "metadata": {
        "id": "XsZGlHktrEz_",
        "colab": {
          "base_uri": "https://localhost:8080/",
          "height": 513
        },
        "outputId": "9e00fc80-9a77-4108-feb6-d664e0733c74"
      },
      "source": [
        "fig = plt.figure(figsize=(15, 8))\n",
        "columns = [\"acousticness\",\"danceability\",\"energy\",\"speechiness\",\"liveness\",\"valence\"]\n",
        "for col in columns:\n",
        "    x = train_df.groupby(\"year\")[col].mean()\n",
        "    ax= sns.lineplot(x=x.index,y=x,label=col)\n",
        "ax.set_title('Audio characteristics over year')\n",
        "ax.patch.set_alpha(0.3)\n",
        "ax.set_ylabel('Measure')\n",
        "ax.set_xlabel('Year')\n",
        "ax.yaxis.grid(True)"
      ],
      "execution_count": 25,
      "outputs": [
        {
          "output_type": "display_data",
          "data": {
            "image/png": "[encoded data removed]",
            "text/plain": [
              "<Figure size 1080x576 with 1 Axes>"
            ]
          },
          "metadata": {
            "tags": [],
            "needs_background": "light"
          }
        }
      ]
    },
    {
      "cell_type": "markdown",
      "metadata": {
        "id": "sKqFByIkBIWE"
      },
      "source": [
        "### **Data Preparation:**"
      ]
    },
    {
      "cell_type": "code",
      "metadata": {
        "id": "u502W0meqqeU"
      },
      "source": [
        "train_df['season'] = train_df['release_date'].str[3:5]\n",
        "train_df['season'] = train_df['season'].replace('01', 0)\n",
        "train_df['season'] = train_df['season'].replace('02', 0)\n",
        "train_df['season'] = train_df['season'].replace('03', 1)\n",
        "train_df['season'] = train_df['season'].replace('04', 1)\n",
        "train_df['season'] = train_df['season'].replace('05', 1)\n",
        "train_df['season'] = train_df['season'].replace('06', 2)\n",
        "train_df['season'] = train_df['season'].replace('07', 2)\n",
        "train_df['season'] = train_df['season'].replace('08', 2)\n",
        "train_df['season'] = train_df['season'].replace('09', 3)\n",
        "train_df['season'] = train_df['season'].replace('10', 3)\n",
        "train_df['season'] = train_df['season'].replace('11', 3)\n",
        "train_df['season'] = train_df['season'].replace('12', 0)"
      ],
      "execution_count": 26,
      "outputs": []
    },
    {
      "cell_type": "code",
      "metadata": {
        "id": "a0AXjxq3qtS3"
      },
      "source": [
        "test_df['season'] = test_df['release_date'].str[3:5]\n",
        "test_df['season'] = test_df['season'].replace('01', 0)\n",
        "test_df['season'] = test_df['season'].replace('02', 0)\n",
        "test_df['season'] = test_df['season'].replace('03', 1)\n",
        "test_df['season'] = test_df['season'].replace('04', 1)\n",
        "test_df['season'] = test_df['season'].replace('05', 1)\n",
        "test_df['season'] = test_df['season'].replace('06', 2)\n",
        "test_df['season'] = test_df['season'].replace('07', 2)\n",
        "test_df['season'] = test_df['season'].replace('08', 2)\n",
        "test_df['season'] = test_df['season'].replace('09', 3)\n",
        "test_df['season'] = test_df['season'].replace('10', 3)\n",
        "test_df['season'] = test_df['season'].replace('11', 3)\n",
        "test_df['season'] = test_df['season'].replace('12', 0)"
      ],
      "execution_count": 27,
      "outputs": []
    },
    {
      "cell_type": "code",
      "metadata": {
        "id": "8bfsMpnsqvoW"
      },
      "source": [
        "from datetime import date\n",
        "import holidays"
      ],
      "execution_count": 28,
      "outputs": []
    },
    {
      "cell_type": "code",
      "metadata": {
        "id": "dBjl5W2WqxFz"
      },
      "source": [
        "us_holidays = holidays.US()"
      ],
      "execution_count": 29,
      "outputs": []
    },
    {
      "cell_type": "code",
      "metadata": {
        "id": "xP9oPxrQqy33"
      },
      "source": [
        "for date, name in sorted(holidays.US().items()):\n",
        "    print(date, name)"
      ],
      "execution_count": 30,
      "outputs": []
    },
    {
      "cell_type": "code",
      "metadata": {
        "id": "1VMWTAC0q0XP",
        "colab": {
          "base_uri": "https://localhost:8080/"
        },
        "outputId": "02dd19f2-3674-4052-9548-d3ef614a8569"
      },
      "source": [
        "print('01-01-2018' in us_holidays)"
      ],
      "execution_count": 31,
      "outputs": [
        {
          "output_type": "stream",
          "text": [
            "True\n"
          ],
          "name": "stdout"
        }
      ]
    },
    {
      "cell_type": "code",
      "metadata": {
        "id": "aH82faBQq21Q",
        "colab": {
          "base_uri": "https://localhost:8080/"
        },
        "outputId": "21dd5cb9-6655-4543-ad35-93b3a138e163"
      },
      "source": [
        "print(us_holidays.get('02-01-2018'))"
      ],
      "execution_count": 32,
      "outputs": [
        {
          "output_type": "stream",
          "text": [
            "None\n"
          ],
          "name": "stdout"
        }
      ]
    },
    {
      "cell_type": "code",
      "metadata": {
        "id": "Gkebzr7vq4p5"
      },
      "source": [
        "train_df['release_date'] = pd.to_datetime(train_df['release_date'])\n",
        "test_df['release_date'] = pd.to_datetime(test_df['release_date'])"
      ],
      "execution_count": 33,
      "outputs": []
    },
    {
      "cell_type": "code",
      "metadata": {
        "id": "jAR8RSEJq8mi"
      },
      "source": [
        "train_df['release_date'] = train_df['release_date'].dt.date.tolist()\n",
        "test_df['release_date'] = test_df['release_date'].dt.date.tolist()"
      ],
      "execution_count": 34,
      "outputs": []
    },
    {
      "cell_type": "code",
      "metadata": {
        "id": "HuUrkyNLq-F5"
      },
      "source": [
        "train_df['holiday_or_not'] = 0\n",
        "test_df['holiday_or_not'] = 0"
      ],
      "execution_count": 35,
      "outputs": []
    },
    {
      "cell_type": "code",
      "metadata": {
        "id": "AIr72FSXrAJp"
      },
      "source": [
        "for i in range(len(train_df)):\n",
        "  if (train_df['release_date'][i] in us_holidays) == True:\n",
        "    train_df['holiday_or_not'][i] = 1"
      ],
      "execution_count": 36,
      "outputs": []
    },
    {
      "cell_type": "code",
      "metadata": {
        "id": "-wxvgN-G957R"
      },
      "source": [
        "for i in range(len(test_df)):\n",
        "  if (test_df['release_date'][i] in us_holidays) == True:\n",
        "    test_df['holiday_or_not'][i] = 1"
      ],
      "execution_count": 37,
      "outputs": []
    },
    {
      "cell_type": "code",
      "metadata": {
        "id": "_kGGgYYNsDTI",
        "colab": {
          "base_uri": "https://localhost:8080/",
          "height": 203
        },
        "outputId": "0b2d47c7-928f-43f5-9e26-76772b9e0d97"
      },
      "source": [
        "columns_drop = ['release_date']\n",
        "train_df.drop(columns_drop, axis = 1, inplace = True)\n",
        "train_df.head()"
      ],
      "execution_count": 38,
      "outputs": [
        {
          "output_type": "execute_result",
          "data": {
            "text/html": [
              "<div>\n",
              "<style scoped>\n",
              "    .dataframe tbody tr th:only-of-type {\n",
              "        vertical-align: middle;\n",
              "    }\n",
              "\n",
              "    .dataframe tbody tr th {\n",
              "        vertical-align: top;\n",
              "    }\n",
              "\n",
              "    .dataframe thead th {\n",
              "        text-align: right;\n",
              "    }\n",
              "</style>\n",
              "<table border=\"1\" class=\"dataframe\">\n",
              "  <thead>\n",
              "    <tr style=\"text-align: right;\">\n",
              "      <th></th>\n",
              "      <th>acousticness</th>\n",
              "      <th>danceability</th>\n",
              "      <th>energy</th>\n",
              "      <th>explicit</th>\n",
              "      <th>instrumentalness</th>\n",
              "      <th>key</th>\n",
              "      <th>liveness</th>\n",
              "      <th>loudness</th>\n",
              "      <th>mode</th>\n",
              "      <th>speechiness</th>\n",
              "      <th>tempo</th>\n",
              "      <th>valence</th>\n",
              "      <th>year</th>\n",
              "      <th>duration-min</th>\n",
              "      <th>popularity</th>\n",
              "      <th>season</th>\n",
              "      <th>holiday_or_not</th>\n",
              "    </tr>\n",
              "  </thead>\n",
              "  <tbody>\n",
              "    <tr>\n",
              "      <th>0</th>\n",
              "      <td>0.949</td>\n",
              "      <td>0.235</td>\n",
              "      <td>0.0276</td>\n",
              "      <td>No</td>\n",
              "      <td>0.9270</td>\n",
              "      <td>5</td>\n",
              "      <td>0.513</td>\n",
              "      <td>-27.398</td>\n",
              "      <td>Major</td>\n",
              "      <td>0.0381</td>\n",
              "      <td>110.838</td>\n",
              "      <td>0.0398</td>\n",
              "      <td>1947</td>\n",
              "      <td>3.0</td>\n",
              "      <td>very low</td>\n",
              "      <td>0</td>\n",
              "      <td>1</td>\n",
              "    </tr>\n",
              "    <tr>\n",
              "      <th>1</th>\n",
              "      <td>0.855</td>\n",
              "      <td>0.456</td>\n",
              "      <td>0.4850</td>\n",
              "      <td>No</td>\n",
              "      <td>0.0884</td>\n",
              "      <td>4</td>\n",
              "      <td>0.151</td>\n",
              "      <td>-10.046</td>\n",
              "      <td>Major</td>\n",
              "      <td>0.0437</td>\n",
              "      <td>152.066</td>\n",
              "      <td>0.8590</td>\n",
              "      <td>2020</td>\n",
              "      <td>2.4</td>\n",
              "      <td>low</td>\n",
              "      <td>3</td>\n",
              "      <td>0</td>\n",
              "    </tr>\n",
              "    <tr>\n",
              "      <th>2</th>\n",
              "      <td>0.827</td>\n",
              "      <td>0.495</td>\n",
              "      <td>0.4990</td>\n",
              "      <td>No</td>\n",
              "      <td>0.0000</td>\n",
              "      <td>0</td>\n",
              "      <td>0.401</td>\n",
              "      <td>-8.009</td>\n",
              "      <td>Minor</td>\n",
              "      <td>0.0474</td>\n",
              "      <td>108.004</td>\n",
              "      <td>0.7090</td>\n",
              "      <td>1950</td>\n",
              "      <td>2.6</td>\n",
              "      <td>very low</td>\n",
              "      <td>0</td>\n",
              "      <td>1</td>\n",
              "    </tr>\n",
              "    <tr>\n",
              "      <th>3</th>\n",
              "      <td>0.654</td>\n",
              "      <td>0.643</td>\n",
              "      <td>0.4690</td>\n",
              "      <td>No</td>\n",
              "      <td>0.1080</td>\n",
              "      <td>7</td>\n",
              "      <td>0.218</td>\n",
              "      <td>-15.917</td>\n",
              "      <td>Major</td>\n",
              "      <td>0.0368</td>\n",
              "      <td>83.636</td>\n",
              "      <td>0.9640</td>\n",
              "      <td>1974</td>\n",
              "      <td>2.4</td>\n",
              "      <td>low</td>\n",
              "      <td>1</td>\n",
              "      <td>0</td>\n",
              "    </tr>\n",
              "    <tr>\n",
              "      <th>4</th>\n",
              "      <td>0.738</td>\n",
              "      <td>0.705</td>\n",
              "      <td>0.3110</td>\n",
              "      <td>No</td>\n",
              "      <td>0.0000</td>\n",
              "      <td>5</td>\n",
              "      <td>0.322</td>\n",
              "      <td>-12.344</td>\n",
              "      <td>Major</td>\n",
              "      <td>0.0488</td>\n",
              "      <td>117.260</td>\n",
              "      <td>0.7850</td>\n",
              "      <td>1973</td>\n",
              "      <td>3.4</td>\n",
              "      <td>average</td>\n",
              "      <td>0</td>\n",
              "      <td>1</td>\n",
              "    </tr>\n",
              "  </tbody>\n",
              "</table>\n",
              "</div>"
            ],
            "text/plain": [
              "   acousticness  danceability  energy  ... popularity  season  holiday_or_not\n",
              "0         0.949         0.235  0.0276  ...   very low       0               1\n",
              "1         0.855         0.456  0.4850  ...        low       3               0\n",
              "2         0.827         0.495  0.4990  ...   very low       0               1\n",
              "3         0.654         0.643  0.4690  ...        low       1               0\n",
              "4         0.738         0.705  0.3110  ...    average       0               1\n",
              "\n",
              "[5 rows x 17 columns]"
            ]
          },
          "metadata": {
            "tags": []
          },
          "execution_count": 38
        }
      ]
    },
    {
      "cell_type": "code",
      "metadata": {
        "colab": {
          "base_uri": "https://localhost:8080/",
          "height": 203
        },
        "id": "DR5T6mqt-Gf5",
        "outputId": "2eb23754-bb8b-4f29-db4b-8c4beb464955"
      },
      "source": [
        "columns_drop = ['release_date']\n",
        "test_df.drop(columns_drop, axis = 1, inplace = True)\n",
        "test_df.head()"
      ],
      "execution_count": 39,
      "outputs": [
        {
          "output_type": "execute_result",
          "data": {
            "text/html": [
              "<div>\n",
              "<style scoped>\n",
              "    .dataframe tbody tr th:only-of-type {\n",
              "        vertical-align: middle;\n",
              "    }\n",
              "\n",
              "    .dataframe tbody tr th {\n",
              "        vertical-align: top;\n",
              "    }\n",
              "\n",
              "    .dataframe thead th {\n",
              "        text-align: right;\n",
              "    }\n",
              "</style>\n",
              "<table border=\"1\" class=\"dataframe\">\n",
              "  <thead>\n",
              "    <tr style=\"text-align: right;\">\n",
              "      <th></th>\n",
              "      <th>acousticness</th>\n",
              "      <th>danceability</th>\n",
              "      <th>energy</th>\n",
              "      <th>explicit</th>\n",
              "      <th>instrumentalness</th>\n",
              "      <th>key</th>\n",
              "      <th>liveness</th>\n",
              "      <th>loudness</th>\n",
              "      <th>mode</th>\n",
              "      <th>speechiness</th>\n",
              "      <th>tempo</th>\n",
              "      <th>valence</th>\n",
              "      <th>year</th>\n",
              "      <th>duration-min</th>\n",
              "      <th>season</th>\n",
              "      <th>holiday_or_not</th>\n",
              "    </tr>\n",
              "  </thead>\n",
              "  <tbody>\n",
              "    <tr>\n",
              "      <th>0</th>\n",
              "      <td>0.03360</td>\n",
              "      <td>0.523</td>\n",
              "      <td>0.861</td>\n",
              "      <td>No</td>\n",
              "      <td>0.000000</td>\n",
              "      <td>0</td>\n",
              "      <td>0.1440</td>\n",
              "      <td>-3.447</td>\n",
              "      <td>Major</td>\n",
              "      <td>0.0644</td>\n",
              "      <td>127.049</td>\n",
              "      <td>0.346</td>\n",
              "      <td>2014</td>\n",
              "      <td>3.8</td>\n",
              "      <td>0</td>\n",
              "      <td>1</td>\n",
              "    </tr>\n",
              "    <tr>\n",
              "      <th>1</th>\n",
              "      <td>0.76500</td>\n",
              "      <td>0.687</td>\n",
              "      <td>0.453</td>\n",
              "      <td>No</td>\n",
              "      <td>0.000008</td>\n",
              "      <td>7</td>\n",
              "      <td>0.0897</td>\n",
              "      <td>-11.649</td>\n",
              "      <td>Major</td>\n",
              "      <td>0.0335</td>\n",
              "      <td>129.987</td>\n",
              "      <td>0.830</td>\n",
              "      <td>1972</td>\n",
              "      <td>3.8</td>\n",
              "      <td>1</td>\n",
              "      <td>0</td>\n",
              "    </tr>\n",
              "    <tr>\n",
              "      <th>2</th>\n",
              "      <td>0.36300</td>\n",
              "      <td>0.536</td>\n",
              "      <td>0.640</td>\n",
              "      <td>No</td>\n",
              "      <td>0.000000</td>\n",
              "      <td>0</td>\n",
              "      <td>0.0948</td>\n",
              "      <td>-5.862</td>\n",
              "      <td>Major</td>\n",
              "      <td>0.0368</td>\n",
              "      <td>142.483</td>\n",
              "      <td>0.289</td>\n",
              "      <td>1998</td>\n",
              "      <td>4.4</td>\n",
              "      <td>2</td>\n",
              "      <td>0</td>\n",
              "    </tr>\n",
              "    <tr>\n",
              "      <th>3</th>\n",
              "      <td>0.00463</td>\n",
              "      <td>0.890</td>\n",
              "      <td>0.617</td>\n",
              "      <td>No</td>\n",
              "      <td>0.003850</td>\n",
              "      <td>2</td>\n",
              "      <td>0.0291</td>\n",
              "      <td>-12.096</td>\n",
              "      <td>Minor</td>\n",
              "      <td>0.0418</td>\n",
              "      <td>121.126</td>\n",
              "      <td>0.970</td>\n",
              "      <td>1980</td>\n",
              "      <td>3.9</td>\n",
              "      <td>3</td>\n",
              "      <td>0</td>\n",
              "    </tr>\n",
              "    <tr>\n",
              "      <th>4</th>\n",
              "      <td>0.00187</td>\n",
              "      <td>0.555</td>\n",
              "      <td>0.943</td>\n",
              "      <td>No</td>\n",
              "      <td>0.000042</td>\n",
              "      <td>2</td>\n",
              "      <td>0.1510</td>\n",
              "      <td>-2.492</td>\n",
              "      <td>Major</td>\n",
              "      <td>0.0891</td>\n",
              "      <td>165.026</td>\n",
              "      <td>0.882</td>\n",
              "      <td>2007</td>\n",
              "      <td>3.2</td>\n",
              "      <td>1</td>\n",
              "      <td>0</td>\n",
              "    </tr>\n",
              "  </tbody>\n",
              "</table>\n",
              "</div>"
            ],
            "text/plain": [
              "   acousticness  danceability  energy  ... duration-min  season  holiday_or_not\n",
              "0       0.03360         0.523   0.861  ...          3.8       0               1\n",
              "1       0.76500         0.687   0.453  ...          3.8       1               0\n",
              "2       0.36300         0.536   0.640  ...          4.4       2               0\n",
              "3       0.00463         0.890   0.617  ...          3.9       3               0\n",
              "4       0.00187         0.555   0.943  ...          3.2       1               0\n",
              "\n",
              "[5 rows x 16 columns]"
            ]
          },
          "metadata": {
            "tags": []
          },
          "execution_count": 39
        }
      ]
    },
    {
      "cell_type": "code",
      "metadata": {
        "id": "bSgc8OD6sID1"
      },
      "source": [
        "train_df['year'] = pd.qcut(train_df['year'], q=16)\n",
        "train_df['duration-min'] = pd.qcut(train_df['duration-min'], q=4)"
      ],
      "execution_count": 40,
      "outputs": []
    },
    {
      "cell_type": "code",
      "metadata": {
        "id": "L7G9tgCq-K5k"
      },
      "source": [
        "test_df['year'] = pd.qcut(test_df['year'], q=16)\n",
        "test_df['duration-min'] = pd.qcut(test_df['duration-min'], q=4)"
      ],
      "execution_count": 41,
      "outputs": []
    },
    {
      "cell_type": "code",
      "metadata": {
        "id": "BhNRrX1YsK6Z"
      },
      "source": [
        "cat_col= ['explicit', 'mode']"
      ],
      "execution_count": 42,
      "outputs": []
    },
    {
      "cell_type": "code",
      "metadata": {
        "id": "pVsHHf3bsMhH"
      },
      "source": [
        "from sklearn.preprocessing import LabelEncoder\n",
        "train_df['year'] = LabelEncoder().fit_transform(train_df['year'])\n",
        "train_df['duration-min'] = LabelEncoder().fit_transform(train_df['duration-min'])"
      ],
      "execution_count": 43,
      "outputs": []
    },
    {
      "cell_type": "code",
      "metadata": {
        "id": "c6OKTDn--UGM"
      },
      "source": [
        "from sklearn.preprocessing import LabelEncoder\n",
        "test_df['year'] = LabelEncoder().fit_transform(test_df['year'])\n",
        "test_df['duration-min'] = LabelEncoder().fit_transform(test_df['duration-min'])"
      ],
      "execution_count": 44,
      "outputs": []
    },
    {
      "cell_type": "code",
      "metadata": {
        "id": "VYeTcN4Q9D2Y"
      },
      "source": [
        "replace_label = {'popularity':{'very low': 1, 'low': 2, 'average': 3, 'high':4, 'very high': 5}}\n",
        "tarin_df = train_df.replace(replace_label)"
      ],
      "execution_count": 45,
      "outputs": []
    },
    {
      "cell_type": "code",
      "metadata": {
        "id": "gJX85_absP41",
        "colab": {
          "base_uri": "https://localhost:8080/",
          "height": 203
        },
        "outputId": "5e63c411-023c-416f-ac80-55f1b9899d16"
      },
      "source": [
        "train_df.head()"
      ],
      "execution_count": 46,
      "outputs": [
        {
          "output_type": "execute_result",
          "data": {
            "text/html": [
              "<div>\n",
              "<style scoped>\n",
              "    .dataframe tbody tr th:only-of-type {\n",
              "        vertical-align: middle;\n",
              "    }\n",
              "\n",
              "    .dataframe tbody tr th {\n",
              "        vertical-align: top;\n",
              "    }\n",
              "\n",
              "    .dataframe thead th {\n",
              "        text-align: right;\n",
              "    }\n",
              "</style>\n",
              "<table border=\"1\" class=\"dataframe\">\n",
              "  <thead>\n",
              "    <tr style=\"text-align: right;\">\n",
              "      <th></th>\n",
              "      <th>acousticness</th>\n",
              "      <th>danceability</th>\n",
              "      <th>energy</th>\n",
              "      <th>explicit</th>\n",
              "      <th>instrumentalness</th>\n",
              "      <th>key</th>\n",
              "      <th>liveness</th>\n",
              "      <th>loudness</th>\n",
              "      <th>mode</th>\n",
              "      <th>speechiness</th>\n",
              "      <th>tempo</th>\n",
              "      <th>valence</th>\n",
              "      <th>year</th>\n",
              "      <th>duration-min</th>\n",
              "      <th>popularity</th>\n",
              "      <th>season</th>\n",
              "      <th>holiday_or_not</th>\n",
              "    </tr>\n",
              "  </thead>\n",
              "  <tbody>\n",
              "    <tr>\n",
              "      <th>0</th>\n",
              "      <td>0.949</td>\n",
              "      <td>0.235</td>\n",
              "      <td>0.0276</td>\n",
              "      <td>No</td>\n",
              "      <td>0.9270</td>\n",
              "      <td>5</td>\n",
              "      <td>0.513</td>\n",
              "      <td>-27.398</td>\n",
              "      <td>Major</td>\n",
              "      <td>0.0381</td>\n",
              "      <td>110.838</td>\n",
              "      <td>0.0398</td>\n",
              "      <td>1</td>\n",
              "      <td>1</td>\n",
              "      <td>very low</td>\n",
              "      <td>0</td>\n",
              "      <td>1</td>\n",
              "    </tr>\n",
              "    <tr>\n",
              "      <th>1</th>\n",
              "      <td>0.855</td>\n",
              "      <td>0.456</td>\n",
              "      <td>0.4850</td>\n",
              "      <td>No</td>\n",
              "      <td>0.0884</td>\n",
              "      <td>4</td>\n",
              "      <td>0.151</td>\n",
              "      <td>-10.046</td>\n",
              "      <td>Major</td>\n",
              "      <td>0.0437</td>\n",
              "      <td>152.066</td>\n",
              "      <td>0.8590</td>\n",
              "      <td>15</td>\n",
              "      <td>0</td>\n",
              "      <td>low</td>\n",
              "      <td>3</td>\n",
              "      <td>0</td>\n",
              "    </tr>\n",
              "    <tr>\n",
              "      <th>2</th>\n",
              "      <td>0.827</td>\n",
              "      <td>0.495</td>\n",
              "      <td>0.4990</td>\n",
              "      <td>No</td>\n",
              "      <td>0.0000</td>\n",
              "      <td>0</td>\n",
              "      <td>0.401</td>\n",
              "      <td>-8.009</td>\n",
              "      <td>Minor</td>\n",
              "      <td>0.0474</td>\n",
              "      <td>108.004</td>\n",
              "      <td>0.7090</td>\n",
              "      <td>1</td>\n",
              "      <td>0</td>\n",
              "      <td>very low</td>\n",
              "      <td>0</td>\n",
              "      <td>1</td>\n",
              "    </tr>\n",
              "    <tr>\n",
              "      <th>3</th>\n",
              "      <td>0.654</td>\n",
              "      <td>0.643</td>\n",
              "      <td>0.4690</td>\n",
              "      <td>No</td>\n",
              "      <td>0.1080</td>\n",
              "      <td>7</td>\n",
              "      <td>0.218</td>\n",
              "      <td>-15.917</td>\n",
              "      <td>Major</td>\n",
              "      <td>0.0368</td>\n",
              "      <td>83.636</td>\n",
              "      <td>0.9640</td>\n",
              "      <td>5</td>\n",
              "      <td>0</td>\n",
              "      <td>low</td>\n",
              "      <td>1</td>\n",
              "      <td>0</td>\n",
              "    </tr>\n",
              "    <tr>\n",
              "      <th>4</th>\n",
              "      <td>0.738</td>\n",
              "      <td>0.705</td>\n",
              "      <td>0.3110</td>\n",
              "      <td>No</td>\n",
              "      <td>0.0000</td>\n",
              "      <td>5</td>\n",
              "      <td>0.322</td>\n",
              "      <td>-12.344</td>\n",
              "      <td>Major</td>\n",
              "      <td>0.0488</td>\n",
              "      <td>117.260</td>\n",
              "      <td>0.7850</td>\n",
              "      <td>5</td>\n",
              "      <td>1</td>\n",
              "      <td>average</td>\n",
              "      <td>0</td>\n",
              "      <td>1</td>\n",
              "    </tr>\n",
              "  </tbody>\n",
              "</table>\n",
              "</div>"
            ],
            "text/plain": [
              "   acousticness  danceability  energy  ... popularity  season  holiday_or_not\n",
              "0         0.949         0.235  0.0276  ...   very low       0               1\n",
              "1         0.855         0.456  0.4850  ...        low       3               0\n",
              "2         0.827         0.495  0.4990  ...   very low       0               1\n",
              "3         0.654         0.643  0.4690  ...        low       1               0\n",
              "4         0.738         0.705  0.3110  ...    average       0               1\n",
              "\n",
              "[5 rows x 17 columns]"
            ]
          },
          "metadata": {
            "tags": []
          },
          "execution_count": 46
        }
      ]
    },
    {
      "cell_type": "code",
      "metadata": {
        "id": "6AS7CUqysRhr"
      },
      "source": [
        "train_df = pd.get_dummies(data=train_df,columns=cat_col)"
      ],
      "execution_count": 47,
      "outputs": []
    },
    {
      "cell_type": "code",
      "metadata": {
        "id": "hEIe1WDRsSxc",
        "colab": {
          "base_uri": "https://localhost:8080/",
          "height": 240
        },
        "outputId": "c17255b7-b4c9-4258-b9c5-48c9b8dc738e"
      },
      "source": [
        "train_df.head()"
      ],
      "execution_count": 48,
      "outputs": [
        {
          "output_type": "execute_result",
          "data": {
            "text/html": [
              "<div>\n",
              "<style scoped>\n",
              "    .dataframe tbody tr th:only-of-type {\n",
              "        vertical-align: middle;\n",
              "    }\n",
              "\n",
              "    .dataframe tbody tr th {\n",
              "        vertical-align: top;\n",
              "    }\n",
              "\n",
              "    .dataframe thead th {\n",
              "        text-align: right;\n",
              "    }\n",
              "</style>\n",
              "<table border=\"1\" class=\"dataframe\">\n",
              "  <thead>\n",
              "    <tr style=\"text-align: right;\">\n",
              "      <th></th>\n",
              "      <th>acousticness</th>\n",
              "      <th>danceability</th>\n",
              "      <th>energy</th>\n",
              "      <th>instrumentalness</th>\n",
              "      <th>key</th>\n",
              "      <th>liveness</th>\n",
              "      <th>loudness</th>\n",
              "      <th>speechiness</th>\n",
              "      <th>tempo</th>\n",
              "      <th>valence</th>\n",
              "      <th>year</th>\n",
              "      <th>duration-min</th>\n",
              "      <th>popularity</th>\n",
              "      <th>season</th>\n",
              "      <th>holiday_or_not</th>\n",
              "      <th>explicit_No</th>\n",
              "      <th>explicit_Yes</th>\n",
              "      <th>mode_Major</th>\n",
              "      <th>mode_Minor</th>\n",
              "    </tr>\n",
              "  </thead>\n",
              "  <tbody>\n",
              "    <tr>\n",
              "      <th>0</th>\n",
              "      <td>0.949</td>\n",
              "      <td>0.235</td>\n",
              "      <td>0.0276</td>\n",
              "      <td>0.9270</td>\n",
              "      <td>5</td>\n",
              "      <td>0.513</td>\n",
              "      <td>-27.398</td>\n",
              "      <td>0.0381</td>\n",
              "      <td>110.838</td>\n",
              "      <td>0.0398</td>\n",
              "      <td>1</td>\n",
              "      <td>1</td>\n",
              "      <td>very low</td>\n",
              "      <td>0</td>\n",
              "      <td>1</td>\n",
              "      <td>1</td>\n",
              "      <td>0</td>\n",
              "      <td>1</td>\n",
              "      <td>0</td>\n",
              "    </tr>\n",
              "    <tr>\n",
              "      <th>1</th>\n",
              "      <td>0.855</td>\n",
              "      <td>0.456</td>\n",
              "      <td>0.4850</td>\n",
              "      <td>0.0884</td>\n",
              "      <td>4</td>\n",
              "      <td>0.151</td>\n",
              "      <td>-10.046</td>\n",
              "      <td>0.0437</td>\n",
              "      <td>152.066</td>\n",
              "      <td>0.8590</td>\n",
              "      <td>15</td>\n",
              "      <td>0</td>\n",
              "      <td>low</td>\n",
              "      <td>3</td>\n",
              "      <td>0</td>\n",
              "      <td>1</td>\n",
              "      <td>0</td>\n",
              "      <td>1</td>\n",
              "      <td>0</td>\n",
              "    </tr>\n",
              "    <tr>\n",
              "      <th>2</th>\n",
              "      <td>0.827</td>\n",
              "      <td>0.495</td>\n",
              "      <td>0.4990</td>\n",
              "      <td>0.0000</td>\n",
              "      <td>0</td>\n",
              "      <td>0.401</td>\n",
              "      <td>-8.009</td>\n",
              "      <td>0.0474</td>\n",
              "      <td>108.004</td>\n",
              "      <td>0.7090</td>\n",
              "      <td>1</td>\n",
              "      <td>0</td>\n",
              "      <td>very low</td>\n",
              "      <td>0</td>\n",
              "      <td>1</td>\n",
              "      <td>1</td>\n",
              "      <td>0</td>\n",
              "      <td>0</td>\n",
              "      <td>1</td>\n",
              "    </tr>\n",
              "    <tr>\n",
              "      <th>3</th>\n",
              "      <td>0.654</td>\n",
              "      <td>0.643</td>\n",
              "      <td>0.4690</td>\n",
              "      <td>0.1080</td>\n",
              "      <td>7</td>\n",
              "      <td>0.218</td>\n",
              "      <td>-15.917</td>\n",
              "      <td>0.0368</td>\n",
              "      <td>83.636</td>\n",
              "      <td>0.9640</td>\n",
              "      <td>5</td>\n",
              "      <td>0</td>\n",
              "      <td>low</td>\n",
              "      <td>1</td>\n",
              "      <td>0</td>\n",
              "      <td>1</td>\n",
              "      <td>0</td>\n",
              "      <td>1</td>\n",
              "      <td>0</td>\n",
              "    </tr>\n",
              "    <tr>\n",
              "      <th>4</th>\n",
              "      <td>0.738</td>\n",
              "      <td>0.705</td>\n",
              "      <td>0.3110</td>\n",
              "      <td>0.0000</td>\n",
              "      <td>5</td>\n",
              "      <td>0.322</td>\n",
              "      <td>-12.344</td>\n",
              "      <td>0.0488</td>\n",
              "      <td>117.260</td>\n",
              "      <td>0.7850</td>\n",
              "      <td>5</td>\n",
              "      <td>1</td>\n",
              "      <td>average</td>\n",
              "      <td>0</td>\n",
              "      <td>1</td>\n",
              "      <td>1</td>\n",
              "      <td>0</td>\n",
              "      <td>1</td>\n",
              "      <td>0</td>\n",
              "    </tr>\n",
              "  </tbody>\n",
              "</table>\n",
              "</div>"
            ],
            "text/plain": [
              "   acousticness  danceability  energy  ...  explicit_Yes  mode_Major  mode_Minor\n",
              "0         0.949         0.235  0.0276  ...             0           1           0\n",
              "1         0.855         0.456  0.4850  ...             0           1           0\n",
              "2         0.827         0.495  0.4990  ...             0           0           1\n",
              "3         0.654         0.643  0.4690  ...             0           1           0\n",
              "4         0.738         0.705  0.3110  ...             0           1           0\n",
              "\n",
              "[5 rows x 19 columns]"
            ]
          },
          "metadata": {
            "tags": []
          },
          "execution_count": 48
        }
      ]
    },
    {
      "cell_type": "code",
      "metadata": {
        "id": "tCV6pHaN-7D8"
      },
      "source": [
        "test_df = pd.get_dummies(data=test_df,columns=cat_col)"
      ],
      "execution_count": 49,
      "outputs": []
    },
    {
      "cell_type": "code",
      "metadata": {
        "colab": {
          "base_uri": "https://localhost:8080/",
          "height": 240
        },
        "id": "gLd1Dzo9-9i3",
        "outputId": "588315ee-5af2-45f7-a1fa-9a518bc770b1"
      },
      "source": [
        "test_df.head()"
      ],
      "execution_count": 50,
      "outputs": [
        {
          "output_type": "execute_result",
          "data": {
            "text/html": [
              "<div>\n",
              "<style scoped>\n",
              "    .dataframe tbody tr th:only-of-type {\n",
              "        vertical-align: middle;\n",
              "    }\n",
              "\n",
              "    .dataframe tbody tr th {\n",
              "        vertical-align: top;\n",
              "    }\n",
              "\n",
              "    .dataframe thead th {\n",
              "        text-align: right;\n",
              "    }\n",
              "</style>\n",
              "<table border=\"1\" class=\"dataframe\">\n",
              "  <thead>\n",
              "    <tr style=\"text-align: right;\">\n",
              "      <th></th>\n",
              "      <th>acousticness</th>\n",
              "      <th>danceability</th>\n",
              "      <th>energy</th>\n",
              "      <th>instrumentalness</th>\n",
              "      <th>key</th>\n",
              "      <th>liveness</th>\n",
              "      <th>loudness</th>\n",
              "      <th>speechiness</th>\n",
              "      <th>tempo</th>\n",
              "      <th>valence</th>\n",
              "      <th>year</th>\n",
              "      <th>duration-min</th>\n",
              "      <th>season</th>\n",
              "      <th>holiday_or_not</th>\n",
              "      <th>explicit_No</th>\n",
              "      <th>explicit_Yes</th>\n",
              "      <th>mode_Major</th>\n",
              "      <th>mode_Minor</th>\n",
              "    </tr>\n",
              "  </thead>\n",
              "  <tbody>\n",
              "    <tr>\n",
              "      <th>0</th>\n",
              "      <td>0.03360</td>\n",
              "      <td>0.523</td>\n",
              "      <td>0.861</td>\n",
              "      <td>0.000000</td>\n",
              "      <td>0</td>\n",
              "      <td>0.1440</td>\n",
              "      <td>-3.447</td>\n",
              "      <td>0.0644</td>\n",
              "      <td>127.049</td>\n",
              "      <td>0.346</td>\n",
              "      <td>13</td>\n",
              "      <td>2</td>\n",
              "      <td>0</td>\n",
              "      <td>1</td>\n",
              "      <td>1</td>\n",
              "      <td>0</td>\n",
              "      <td>1</td>\n",
              "      <td>0</td>\n",
              "    </tr>\n",
              "    <tr>\n",
              "      <th>1</th>\n",
              "      <td>0.76500</td>\n",
              "      <td>0.687</td>\n",
              "      <td>0.453</td>\n",
              "      <td>0.000008</td>\n",
              "      <td>7</td>\n",
              "      <td>0.0897</td>\n",
              "      <td>-11.649</td>\n",
              "      <td>0.0335</td>\n",
              "      <td>129.987</td>\n",
              "      <td>0.830</td>\n",
              "      <td>5</td>\n",
              "      <td>2</td>\n",
              "      <td>1</td>\n",
              "      <td>0</td>\n",
              "      <td>1</td>\n",
              "      <td>0</td>\n",
              "      <td>1</td>\n",
              "      <td>0</td>\n",
              "    </tr>\n",
              "    <tr>\n",
              "      <th>2</th>\n",
              "      <td>0.36300</td>\n",
              "      <td>0.536</td>\n",
              "      <td>0.640</td>\n",
              "      <td>0.000000</td>\n",
              "      <td>0</td>\n",
              "      <td>0.0948</td>\n",
              "      <td>-5.862</td>\n",
              "      <td>0.0368</td>\n",
              "      <td>142.483</td>\n",
              "      <td>0.289</td>\n",
              "      <td>10</td>\n",
              "      <td>2</td>\n",
              "      <td>2</td>\n",
              "      <td>0</td>\n",
              "      <td>1</td>\n",
              "      <td>0</td>\n",
              "      <td>1</td>\n",
              "      <td>0</td>\n",
              "    </tr>\n",
              "    <tr>\n",
              "      <th>3</th>\n",
              "      <td>0.00463</td>\n",
              "      <td>0.890</td>\n",
              "      <td>0.617</td>\n",
              "      <td>0.003850</td>\n",
              "      <td>2</td>\n",
              "      <td>0.0291</td>\n",
              "      <td>-12.096</td>\n",
              "      <td>0.0418</td>\n",
              "      <td>121.126</td>\n",
              "      <td>0.970</td>\n",
              "      <td>6</td>\n",
              "      <td>2</td>\n",
              "      <td>3</td>\n",
              "      <td>0</td>\n",
              "      <td>1</td>\n",
              "      <td>0</td>\n",
              "      <td>0</td>\n",
              "      <td>1</td>\n",
              "    </tr>\n",
              "    <tr>\n",
              "      <th>4</th>\n",
              "      <td>0.00187</td>\n",
              "      <td>0.555</td>\n",
              "      <td>0.943</td>\n",
              "      <td>0.000042</td>\n",
              "      <td>2</td>\n",
              "      <td>0.1510</td>\n",
              "      <td>-2.492</td>\n",
              "      <td>0.0891</td>\n",
              "      <td>165.026</td>\n",
              "      <td>0.882</td>\n",
              "      <td>11</td>\n",
              "      <td>1</td>\n",
              "      <td>1</td>\n",
              "      <td>0</td>\n",
              "      <td>1</td>\n",
              "      <td>0</td>\n",
              "      <td>1</td>\n",
              "      <td>0</td>\n",
              "    </tr>\n",
              "  </tbody>\n",
              "</table>\n",
              "</div>"
            ],
            "text/plain": [
              "   acousticness  danceability  energy  ...  explicit_Yes  mode_Major  mode_Minor\n",
              "0       0.03360         0.523   0.861  ...             0           1           0\n",
              "1       0.76500         0.687   0.453  ...             0           1           0\n",
              "2       0.36300         0.536   0.640  ...             0           1           0\n",
              "3       0.00463         0.890   0.617  ...             0           0           1\n",
              "4       0.00187         0.555   0.943  ...             0           1           0\n",
              "\n",
              "[5 rows x 18 columns]"
            ]
          },
          "metadata": {
            "tags": []
          },
          "execution_count": 50
        }
      ]
    },
    {
      "cell_type": "code",
      "metadata": {
        "id": "NgpfbnKksUoH"
      },
      "source": [
        "y = train_df.loc[:, 'popularity']\n",
        "train_df.drop('popularity', inplace = True, axis = 1)"
      ],
      "execution_count": 51,
      "outputs": []
    },
    {
      "cell_type": "markdown",
      "metadata": {
        "id": "9TBqCjPQBQ5M"
      },
      "source": [
        "### **Final Dataframes:**"
      ]
    },
    {
      "cell_type": "code",
      "metadata": {
        "id": "6TUY71MNsiV2",
        "colab": {
          "base_uri": "https://localhost:8080/",
          "height": 240
        },
        "outputId": "ff2cd228-3079-447e-e5bc-d5ec6e8aa45d"
      },
      "source": [
        "x = train_df.iloc[:, :]\n",
        "x.head()"
      ],
      "execution_count": 52,
      "outputs": [
        {
          "output_type": "execute_result",
          "data": {
            "text/html": [
              "<div>\n",
              "<style scoped>\n",
              "    .dataframe tbody tr th:only-of-type {\n",
              "        vertical-align: middle;\n",
              "    }\n",
              "\n",
              "    .dataframe tbody tr th {\n",
              "        vertical-align: top;\n",
              "    }\n",
              "\n",
              "    .dataframe thead th {\n",
              "        text-align: right;\n",
              "    }\n",
              "</style>\n",
              "<table border=\"1\" class=\"dataframe\">\n",
              "  <thead>\n",
              "    <tr style=\"text-align: right;\">\n",
              "      <th></th>\n",
              "      <th>acousticness</th>\n",
              "      <th>danceability</th>\n",
              "      <th>energy</th>\n",
              "      <th>instrumentalness</th>\n",
              "      <th>key</th>\n",
              "      <th>liveness</th>\n",
              "      <th>loudness</th>\n",
              "      <th>speechiness</th>\n",
              "      <th>tempo</th>\n",
              "      <th>valence</th>\n",
              "      <th>year</th>\n",
              "      <th>duration-min</th>\n",
              "      <th>season</th>\n",
              "      <th>holiday_or_not</th>\n",
              "      <th>explicit_No</th>\n",
              "      <th>explicit_Yes</th>\n",
              "      <th>mode_Major</th>\n",
              "      <th>mode_Minor</th>\n",
              "    </tr>\n",
              "  </thead>\n",
              "  <tbody>\n",
              "    <tr>\n",
              "      <th>0</th>\n",
              "      <td>0.949</td>\n",
              "      <td>0.235</td>\n",
              "      <td>0.0276</td>\n",
              "      <td>0.9270</td>\n",
              "      <td>5</td>\n",
              "      <td>0.513</td>\n",
              "      <td>-27.398</td>\n",
              "      <td>0.0381</td>\n",
              "      <td>110.838</td>\n",
              "      <td>0.0398</td>\n",
              "      <td>1</td>\n",
              "      <td>1</td>\n",
              "      <td>0</td>\n",
              "      <td>1</td>\n",
              "      <td>1</td>\n",
              "      <td>0</td>\n",
              "      <td>1</td>\n",
              "      <td>0</td>\n",
              "    </tr>\n",
              "    <tr>\n",
              "      <th>1</th>\n",
              "      <td>0.855</td>\n",
              "      <td>0.456</td>\n",
              "      <td>0.4850</td>\n",
              "      <td>0.0884</td>\n",
              "      <td>4</td>\n",
              "      <td>0.151</td>\n",
              "      <td>-10.046</td>\n",
              "      <td>0.0437</td>\n",
              "      <td>152.066</td>\n",
              "      <td>0.8590</td>\n",
              "      <td>15</td>\n",
              "      <td>0</td>\n",
              "      <td>3</td>\n",
              "      <td>0</td>\n",
              "      <td>1</td>\n",
              "      <td>0</td>\n",
              "      <td>1</td>\n",
              "      <td>0</td>\n",
              "    </tr>\n",
              "    <tr>\n",
              "      <th>2</th>\n",
              "      <td>0.827</td>\n",
              "      <td>0.495</td>\n",
              "      <td>0.4990</td>\n",
              "      <td>0.0000</td>\n",
              "      <td>0</td>\n",
              "      <td>0.401</td>\n",
              "      <td>-8.009</td>\n",
              "      <td>0.0474</td>\n",
              "      <td>108.004</td>\n",
              "      <td>0.7090</td>\n",
              "      <td>1</td>\n",
              "      <td>0</td>\n",
              "      <td>0</td>\n",
              "      <td>1</td>\n",
              "      <td>1</td>\n",
              "      <td>0</td>\n",
              "      <td>0</td>\n",
              "      <td>1</td>\n",
              "    </tr>\n",
              "    <tr>\n",
              "      <th>3</th>\n",
              "      <td>0.654</td>\n",
              "      <td>0.643</td>\n",
              "      <td>0.4690</td>\n",
              "      <td>0.1080</td>\n",
              "      <td>7</td>\n",
              "      <td>0.218</td>\n",
              "      <td>-15.917</td>\n",
              "      <td>0.0368</td>\n",
              "      <td>83.636</td>\n",
              "      <td>0.9640</td>\n",
              "      <td>5</td>\n",
              "      <td>0</td>\n",
              "      <td>1</td>\n",
              "      <td>0</td>\n",
              "      <td>1</td>\n",
              "      <td>0</td>\n",
              "      <td>1</td>\n",
              "      <td>0</td>\n",
              "    </tr>\n",
              "    <tr>\n",
              "      <th>4</th>\n",
              "      <td>0.738</td>\n",
              "      <td>0.705</td>\n",
              "      <td>0.3110</td>\n",
              "      <td>0.0000</td>\n",
              "      <td>5</td>\n",
              "      <td>0.322</td>\n",
              "      <td>-12.344</td>\n",
              "      <td>0.0488</td>\n",
              "      <td>117.260</td>\n",
              "      <td>0.7850</td>\n",
              "      <td>5</td>\n",
              "      <td>1</td>\n",
              "      <td>0</td>\n",
              "      <td>1</td>\n",
              "      <td>1</td>\n",
              "      <td>0</td>\n",
              "      <td>1</td>\n",
              "      <td>0</td>\n",
              "    </tr>\n",
              "  </tbody>\n",
              "</table>\n",
              "</div>"
            ],
            "text/plain": [
              "   acousticness  danceability  energy  ...  explicit_Yes  mode_Major  mode_Minor\n",
              "0         0.949         0.235  0.0276  ...             0           1           0\n",
              "1         0.855         0.456  0.4850  ...             0           1           0\n",
              "2         0.827         0.495  0.4990  ...             0           0           1\n",
              "3         0.654         0.643  0.4690  ...             0           1           0\n",
              "4         0.738         0.705  0.3110  ...             0           1           0\n",
              "\n",
              "[5 rows x 18 columns]"
            ]
          },
          "metadata": {
            "tags": []
          },
          "execution_count": 52
        }
      ]
    },
    {
      "cell_type": "code",
      "metadata": {
        "id": "QjO6RbR1sj9I",
        "colab": {
          "base_uri": "https://localhost:8080/",
          "height": 240
        },
        "outputId": "70e4f0a1-7e16-451c-a12d-6b830cc7afd8"
      },
      "source": [
        "x_test = test_df.iloc[:, :]\n",
        "x_test.head()"
      ],
      "execution_count": 53,
      "outputs": [
        {
          "output_type": "execute_result",
          "data": {
            "text/html": [
              "<div>\n",
              "<style scoped>\n",
              "    .dataframe tbody tr th:only-of-type {\n",
              "        vertical-align: middle;\n",
              "    }\n",
              "\n",
              "    .dataframe tbody tr th {\n",
              "        vertical-align: top;\n",
              "    }\n",
              "\n",
              "    .dataframe thead th {\n",
              "        text-align: right;\n",
              "    }\n",
              "</style>\n",
              "<table border=\"1\" class=\"dataframe\">\n",
              "  <thead>\n",
              "    <tr style=\"text-align: right;\">\n",
              "      <th></th>\n",
              "      <th>acousticness</th>\n",
              "      <th>danceability</th>\n",
              "      <th>energy</th>\n",
              "      <th>instrumentalness</th>\n",
              "      <th>key</th>\n",
              "      <th>liveness</th>\n",
              "      <th>loudness</th>\n",
              "      <th>speechiness</th>\n",
              "      <th>tempo</th>\n",
              "      <th>valence</th>\n",
              "      <th>year</th>\n",
              "      <th>duration-min</th>\n",
              "      <th>season</th>\n",
              "      <th>holiday_or_not</th>\n",
              "      <th>explicit_No</th>\n",
              "      <th>explicit_Yes</th>\n",
              "      <th>mode_Major</th>\n",
              "      <th>mode_Minor</th>\n",
              "    </tr>\n",
              "  </thead>\n",
              "  <tbody>\n",
              "    <tr>\n",
              "      <th>0</th>\n",
              "      <td>0.03360</td>\n",
              "      <td>0.523</td>\n",
              "      <td>0.861</td>\n",
              "      <td>0.000000</td>\n",
              "      <td>0</td>\n",
              "      <td>0.1440</td>\n",
              "      <td>-3.447</td>\n",
              "      <td>0.0644</td>\n",
              "      <td>127.049</td>\n",
              "      <td>0.346</td>\n",
              "      <td>13</td>\n",
              "      <td>2</td>\n",
              "      <td>0</td>\n",
              "      <td>1</td>\n",
              "      <td>1</td>\n",
              "      <td>0</td>\n",
              "      <td>1</td>\n",
              "      <td>0</td>\n",
              "    </tr>\n",
              "    <tr>\n",
              "      <th>1</th>\n",
              "      <td>0.76500</td>\n",
              "      <td>0.687</td>\n",
              "      <td>0.453</td>\n",
              "      <td>0.000008</td>\n",
              "      <td>7</td>\n",
              "      <td>0.0897</td>\n",
              "      <td>-11.649</td>\n",
              "      <td>0.0335</td>\n",
              "      <td>129.987</td>\n",
              "      <td>0.830</td>\n",
              "      <td>5</td>\n",
              "      <td>2</td>\n",
              "      <td>1</td>\n",
              "      <td>0</td>\n",
              "      <td>1</td>\n",
              "      <td>0</td>\n",
              "      <td>1</td>\n",
              "      <td>0</td>\n",
              "    </tr>\n",
              "    <tr>\n",
              "      <th>2</th>\n",
              "      <td>0.36300</td>\n",
              "      <td>0.536</td>\n",
              "      <td>0.640</td>\n",
              "      <td>0.000000</td>\n",
              "      <td>0</td>\n",
              "      <td>0.0948</td>\n",
              "      <td>-5.862</td>\n",
              "      <td>0.0368</td>\n",
              "      <td>142.483</td>\n",
              "      <td>0.289</td>\n",
              "      <td>10</td>\n",
              "      <td>2</td>\n",
              "      <td>2</td>\n",
              "      <td>0</td>\n",
              "      <td>1</td>\n",
              "      <td>0</td>\n",
              "      <td>1</td>\n",
              "      <td>0</td>\n",
              "    </tr>\n",
              "    <tr>\n",
              "      <th>3</th>\n",
              "      <td>0.00463</td>\n",
              "      <td>0.890</td>\n",
              "      <td>0.617</td>\n",
              "      <td>0.003850</td>\n",
              "      <td>2</td>\n",
              "      <td>0.0291</td>\n",
              "      <td>-12.096</td>\n",
              "      <td>0.0418</td>\n",
              "      <td>121.126</td>\n",
              "      <td>0.970</td>\n",
              "      <td>6</td>\n",
              "      <td>2</td>\n",
              "      <td>3</td>\n",
              "      <td>0</td>\n",
              "      <td>1</td>\n",
              "      <td>0</td>\n",
              "      <td>0</td>\n",
              "      <td>1</td>\n",
              "    </tr>\n",
              "    <tr>\n",
              "      <th>4</th>\n",
              "      <td>0.00187</td>\n",
              "      <td>0.555</td>\n",
              "      <td>0.943</td>\n",
              "      <td>0.000042</td>\n",
              "      <td>2</td>\n",
              "      <td>0.1510</td>\n",
              "      <td>-2.492</td>\n",
              "      <td>0.0891</td>\n",
              "      <td>165.026</td>\n",
              "      <td>0.882</td>\n",
              "      <td>11</td>\n",
              "      <td>1</td>\n",
              "      <td>1</td>\n",
              "      <td>0</td>\n",
              "      <td>1</td>\n",
              "      <td>0</td>\n",
              "      <td>1</td>\n",
              "      <td>0</td>\n",
              "    </tr>\n",
              "  </tbody>\n",
              "</table>\n",
              "</div>"
            ],
            "text/plain": [
              "   acousticness  danceability  energy  ...  explicit_Yes  mode_Major  mode_Minor\n",
              "0       0.03360         0.523   0.861  ...             0           1           0\n",
              "1       0.76500         0.687   0.453  ...             0           1           0\n",
              "2       0.36300         0.536   0.640  ...             0           1           0\n",
              "3       0.00463         0.890   0.617  ...             0           0           1\n",
              "4       0.00187         0.555   0.943  ...             0           1           0\n",
              "\n",
              "[5 rows x 18 columns]"
            ]
          },
          "metadata": {
            "tags": []
          },
          "execution_count": 53
        }
      ]
    },
    {
      "cell_type": "markdown",
      "metadata": {
        "id": "BordnaH2A52X"
      },
      "source": [
        "### **Model Testing:**"
      ]
    },
    {
      "cell_type": "code",
      "metadata": {
        "id": "DiCMbDcHsliH"
      },
      "source": [
        "from sklearn.model_selection import train_test_split\n",
        "x_train, x_test, y_train, y_test = train_test_split(x, y, random_state = 42, test_size = 0.25)"
      ],
      "execution_count": 54,
      "outputs": []
    },
    {
      "cell_type": "code",
      "metadata": {
        "id": "V67F27fdsnTK"
      },
      "source": [
        "from sklearn.preprocessing import StandardScaler\n",
        "std_x = StandardScaler()\n",
        "x_train_std = std_x.fit_transform(x_train)\n",
        "x_test_std = std_x.transform(x_test)"
      ],
      "execution_count": 55,
      "outputs": []
    },
    {
      "cell_type": "code",
      "metadata": {
        "id": "2roh3ffwsooq"
      },
      "source": [
        "from sklearn.metrics import accuracy_score\n",
        "from sklearn.metrics import classification_report\n",
        "from sklearn.metrics import confusion_matrix "
      ],
      "execution_count": 56,
      "outputs": []
    },
    {
      "cell_type": "code",
      "metadata": {
        "id": "pxMnDFQ_sqFT",
        "colab": {
          "base_uri": "https://localhost:8080/",
          "height": 626
        },
        "outputId": "40d79494-5221-42a3-8e72-530b85cb5ae4"
      },
      "source": [
        "from sklearn.neighbors import KNeighborsClassifier\n",
        "knn = KNeighborsClassifier()\n",
        "knn.fit(x_train_std, y_train)\n",
        "knn_pred = knn.predict(x_test_std)\n",
        "knn_accu = accuracy_score(y_test, knn_pred)\n",
        "knn_report = classification_report(y_test, knn_pred)\n",
        "knn_cm = confusion_matrix(y_test, knn_pred)\n",
        "print('[0]K-Nearest Neighbors Performance:\\n')\n",
        "print('Accuracy:', knn_accu)\n",
        "print('Classification Report:', knn_report)\n",
        "plt.figure(figsize=(8,6))\n",
        "sns.heatmap(knn_cm, annot = True, cmap='coolwarm', linewidths=0.2, fmt = \"d\");"
      ],
      "execution_count": 57,
      "outputs": [
        {
          "output_type": "stream",
          "text": [
            "[0]K-Nearest Neighbors Performance:\n",
            "\n",
            "Accuracy: 0.5024533856722276\n",
            "Classification Report:               precision    recall  f1-score   support\n",
            "\n",
            "     average       0.37      0.46      0.41       723\n",
            "        high       0.49      0.53      0.51       678\n",
            "         low       0.44      0.42      0.43       770\n",
            "   very high       0.24      0.10      0.14        92\n",
            "    very low       0.79      0.65      0.71       794\n",
            "\n",
            "    accuracy                           0.50      3057\n",
            "   macro avg       0.47      0.43      0.44      3057\n",
            "weighted avg       0.52      0.50      0.51      3057\n",
            "\n"
          ],
          "name": "stdout"
        },
        {
          "output_type": "display_data",
          "data": {
            "image/png": "[encoded data removed]",
            "text/plain": [
              "<Figure size 576x432 with 2 Axes>"
            ]
          },
          "metadata": {
            "tags": [],
            "needs_background": "light"
          }
        }
      ]
    },
    {
      "cell_type": "code",
      "metadata": {
        "id": "I94R0544sroJ",
        "colab": {
          "base_uri": "https://localhost:8080/",
          "height": 626
        },
        "outputId": "c3b0c225-46d9-4e34-dfb5-f4f9c100b9cb"
      },
      "source": [
        "from sklearn.tree import DecisionTreeClassifier \n",
        "dt = DecisionTreeClassifier()\n",
        "dt.fit(x_train_std, y_train)\n",
        "dt_pred = dt.predict(x_test_std)\n",
        "dt_accu = accuracy_score(y_test, dt_pred)\n",
        "dt_report = classification_report(y_test, dt_pred)\n",
        "dt_cm = confusion_matrix(y_test, dt_pred)\n",
        "print('[1]Decision Tree Classifier Performance:\\n')\n",
        "print('Accuracy:', dt_accu)\n",
        "print('Classification Report:', dt_report)\n",
        "plt.figure(figsize=(8,6))\n",
        "sns.heatmap(dt_cm, annot = True, cmap='coolwarm', linewidths=0.2, fmt = \"d\");"
      ],
      "execution_count": 58,
      "outputs": [
        {
          "output_type": "stream",
          "text": [
            "[1]Decision Tree Classifier Performance:\n",
            "\n",
            "Accuracy: 0.5116126921818777\n",
            "Classification Report:               precision    recall  f1-score   support\n",
            "\n",
            "     average       0.39      0.39      0.39       723\n",
            "        high       0.45      0.45      0.45       678\n",
            "         low       0.49      0.50      0.50       770\n",
            "   very high       0.31      0.41      0.36        92\n",
            "    very low       0.73      0.71      0.72       794\n",
            "\n",
            "    accuracy                           0.51      3057\n",
            "   macro avg       0.47      0.49      0.48      3057\n",
            "weighted avg       0.51      0.51      0.51      3057\n",
            "\n"
          ],
          "name": "stdout"
        },
        {
          "output_type": "display_data",
          "data": {
            "image/png": "[encoded data removed]",
            "text/plain": [
              "<Figure size 576x432 with 2 Axes>"
            ]
          },
          "metadata": {
            "tags": [],
            "needs_background": "light"
          }
        }
      ]
    },
    {
      "cell_type": "code",
      "metadata": {
        "id": "QbZi_PMfstFr",
        "colab": {
          "base_uri": "https://localhost:8080/",
          "height": 626
        },
        "outputId": "3f71ee03-b6a5-4ff5-96f0-49c5de70d70a"
      },
      "source": [
        "from sklearn.svm import SVC \n",
        "svc = SVC()\n",
        "svc.fit(x_train_std, y_train)\n",
        "svc_pred = dt.predict(x_test_std)\n",
        "svc_accu = accuracy_score(y_test, svc_pred)\n",
        "svc_report = classification_report(y_test, svc_pred)\n",
        "svc_cm = confusion_matrix(y_test, svc_pred)\n",
        "print('[2]SVM Classifier Performance:\\n')\n",
        "print('Accuracy:', svc_accu)\n",
        "print('Classification Report:', svc_report)\n",
        "plt.figure(figsize=(8,6))\n",
        "sns.heatmap(svc_cm, annot = True, cmap='coolwarm', linewidths=0.2, fmt = \"d\");"
      ],
      "execution_count": 59,
      "outputs": [
        {
          "output_type": "stream",
          "text": [
            "[2]SVM Classifier Performance:\n",
            "\n",
            "Accuracy: 0.5116126921818777\n",
            "Classification Report:               precision    recall  f1-score   support\n",
            "\n",
            "     average       0.39      0.39      0.39       723\n",
            "        high       0.45      0.45      0.45       678\n",
            "         low       0.49      0.50      0.50       770\n",
            "   very high       0.31      0.41      0.36        92\n",
            "    very low       0.73      0.71      0.72       794\n",
            "\n",
            "    accuracy                           0.51      3057\n",
            "   macro avg       0.47      0.49      0.48      3057\n",
            "weighted avg       0.51      0.51      0.51      3057\n",
            "\n"
          ],
          "name": "stdout"
        },
        {
          "output_type": "display_data",
          "data": {
            "image/png": "[encoded data removed]",
            "text/plain": [
              "<Figure size 576x432 with 2 Axes>"
            ]
          },
          "metadata": {
            "tags": [],
            "needs_background": "light"
          }
        }
      ]
    },
    {
      "cell_type": "code",
      "metadata": {
        "id": "B3nPvhsjsuxc",
        "colab": {
          "base_uri": "https://localhost:8080/",
          "height": 626
        },
        "outputId": "5531ef4e-ed51-423b-9752-f066178199bb"
      },
      "source": [
        "from sklearn.naive_bayes import GaussianNB \n",
        "gb = GaussianNB()\n",
        "gb.fit(x_train_std, y_train)\n",
        "gb_pred = gb.predict(x_test_std)\n",
        "gb_accu = accuracy_score(y_test, gb_pred)\n",
        "gb_report = classification_report(y_test, gb_pred)\n",
        "gb_cm = confusion_matrix(y_test, gb_pred)\n",
        "print('[3]Gaussian Naive Bayes Classifier Performance:\\n')\n",
        "print('Accuracy:', gb_accu)\n",
        "print('Classification Report:', gb_report)\n",
        "plt.figure(figsize=(8,6))\n",
        "sns.heatmap(gb_cm, annot = True, cmap='coolwarm', linewidths=0.2, fmt = \"d\");"
      ],
      "execution_count": 60,
      "outputs": [
        {
          "output_type": "stream",
          "text": [
            "[3]Gaussian Naive Bayes Classifier Performance:\n",
            "\n",
            "Accuracy: 0.4870788354596009\n",
            "Classification Report:               precision    recall  f1-score   support\n",
            "\n",
            "     average       0.42      0.30      0.35       723\n",
            "        high       0.46      0.32      0.38       678\n",
            "         low       0.47      0.68      0.56       770\n",
            "   very high       0.20      0.64      0.31        92\n",
            "    very low       0.69      0.60      0.64       794\n",
            "\n",
            "    accuracy                           0.49      3057\n",
            "   macro avg       0.45      0.51      0.45      3057\n",
            "weighted avg       0.51      0.49      0.48      3057\n",
            "\n"
          ],
          "name": "stdout"
        },
        {
          "output_type": "display_data",
          "data": {
            "image/png": "[encoded data removed]",
            "text/plain": [
              "<Figure size 576x432 with 2 Axes>"
            ]
          },
          "metadata": {
            "tags": [],
            "needs_background": "light"
          }
        }
      ]
    },
    {
      "cell_type": "code",
      "metadata": {
        "id": "hZ4e157nswkr",
        "colab": {
          "base_uri": "https://localhost:8080/",
          "height": 626
        },
        "outputId": "ac8434c4-5dc1-4302-b008-e9a2e9e435c2"
      },
      "source": [
        "from sklearn.ensemble import RandomForestClassifier \n",
        "rf = RandomForestClassifier(n_estimators= 900)\n",
        "rf.fit(x_train_std, y_train)\n",
        "rf_pred = rf.predict(x_test_std)\n",
        "rf_accu = accuracy_score(y_test, rf_pred)\n",
        "rf_report = classification_report(y_test, rf_pred)\n",
        "rf_cm = confusion_matrix(y_test, rf_pred)\n",
        "print('[4]Random Forest Classifier Performance:\\n')\n",
        "print('Accuracy:', rf_accu)\n",
        "print('Classification Report:', rf_report)\n",
        "plt.figure(figsize=(8,6))\n",
        "sns.heatmap(rf_cm, annot = True, cmap='coolwarm', linewidths=0.2, fmt = \"d\");"
      ],
      "execution_count": 61,
      "outputs": [
        {
          "output_type": "stream",
          "text": [
            "[4]Random Forest Classifier Performance:\n",
            "\n",
            "Accuracy: 0.6241413150147204\n",
            "Classification Report:               precision    recall  f1-score   support\n",
            "\n",
            "     average       0.51      0.46      0.49       723\n",
            "        high       0.61      0.57      0.59       678\n",
            "         low       0.55      0.71      0.62       770\n",
            "   very high       0.56      0.16      0.25        92\n",
            "    very low       0.83      0.79      0.81       794\n",
            "\n",
            "    accuracy                           0.62      3057\n",
            "   macro avg       0.61      0.54      0.55      3057\n",
            "weighted avg       0.63      0.62      0.62      3057\n",
            "\n"
          ],
          "name": "stdout"
        },
        {
          "output_type": "display_data",
          "data": {
            "image/png": "[encoded data removed]",
            "text/plain": [
              "<Figure size 576x432 with 2 Axes>"
            ]
          },
          "metadata": {
            "tags": [],
            "needs_background": "light"
          }
        }
      ]
    },
    {
      "cell_type": "code",
      "metadata": {
        "id": "i4LGDntusyUN",
        "colab": {
          "base_uri": "https://localhost:8080/",
          "height": 626
        },
        "outputId": "a05cdc2f-2098-479f-8a9d-35281645412e"
      },
      "source": [
        "from xgboost import XGBClassifier\n",
        "xg = XGBClassifier(learning_rate= 0.04, n_estimators=450)\n",
        "xg.fit(x_train_std, y_train)\n",
        "xg_pred = xg.predict(x_test_std)\n",
        "xg_accu = accuracy_score(y_test, xg_pred)\n",
        "xg_report = classification_report(y_test, xg_pred)\n",
        "xg_cm = confusion_matrix(y_test, xg_pred)\n",
        "print('[5]xgBoost Classifier Performance:\\n')\n",
        "print('Accuracy:', xg_accu)\n",
        "print('Classification Report:', xg_report)\n",
        "plt.figure(figsize=(8,6))\n",
        "sns.heatmap(xg_cm, annot = True, cmap='coolwarm', linewidths=0.2, fmt = \"d\");"
      ],
      "execution_count": 62,
      "outputs": [
        {
          "output_type": "stream",
          "text": [
            "[5]xgBoost Classifier Performance:\n",
            "\n",
            "Accuracy: 0.6149820085050703\n",
            "Classification Report:               precision    recall  f1-score   support\n",
            "\n",
            "     average       0.52      0.49      0.50       723\n",
            "        high       0.62      0.52      0.57       678\n",
            "         low       0.54      0.70      0.61       770\n",
            "   very high       0.46      0.25      0.32        92\n",
            "    very low       0.80      0.77      0.79       794\n",
            "\n",
            "    accuracy                           0.61      3057\n",
            "   macro avg       0.59      0.55      0.56      3057\n",
            "weighted avg       0.62      0.61      0.61      3057\n",
            "\n"
          ],
          "name": "stdout"
        },
        {
          "output_type": "display_data",
          "data": {
            "image/png": "[encoded data removed]",
            "text/plain": [
              "<Figure size 576x432 with 2 Axes>"
            ]
          },
          "metadata": {
            "tags": [],
            "needs_background": "light"
          }
        }
      ]
    },
    {
      "cell_type": "code",
      "metadata": {
        "id": "KoPY9MFCsz9W",
        "colab": {
          "base_uri": "https://localhost:8080/",
          "height": 626
        },
        "outputId": "ecf944ba-fabe-4a07-a245-b471c2f27558"
      },
      "source": [
        "from sklearn.ensemble import AdaBoostClassifier\n",
        "ab = AdaBoostClassifier(learning_rate= 0.4, n_estimators= 200)\n",
        "ab.fit(x_train_std, y_train)\n",
        "ab_pred = ab.predict(x_test_std)\n",
        "ab_accu = accuracy_score(y_test, ab_pred)\n",
        "ab_report = classification_report(y_test, ab_pred)\n",
        "ab_cm = confusion_matrix(y_test, ab_pred)\n",
        "print('[6]AdaBoost Classifier Performance:\\n')\n",
        "print('Accuracy:', ab_accu)\n",
        "print('Classification Report:', ab_report)\n",
        "plt.figure(figsize=(8,6))\n",
        "sns.heatmap(ab_cm, annot = True, cmap='coolwarm', linewidths=0.2, fmt = \"d\");"
      ],
      "execution_count": 63,
      "outputs": [
        {
          "output_type": "stream",
          "text": [
            "[6]AdaBoost Classifier Performance:\n",
            "\n",
            "Accuracy: 0.5731108930323847\n",
            "Classification Report:               precision    recall  f1-score   support\n",
            "\n",
            "     average       0.46      0.41      0.43       723\n",
            "        high       0.57      0.50      0.53       678\n",
            "         low       0.51      0.62      0.56       770\n",
            "   very high       0.28      0.29      0.28        92\n",
            "    very low       0.78      0.77      0.78       794\n",
            "\n",
            "    accuracy                           0.57      3057\n",
            "   macro avg       0.52      0.52      0.52      3057\n",
            "weighted avg       0.58      0.57      0.57      3057\n",
            "\n"
          ],
          "name": "stdout"
        },
        {
          "output_type": "display_data",
          "data": {
            "image/png": "[encoded data removed]",
            "text/plain": [
              "<Figure size 576x432 with 2 Axes>"
            ]
          },
          "metadata": {
            "tags": [],
            "needs_background": "light"
          }
        }
      ]
    },
    {
      "cell_type": "code",
      "metadata": {
        "id": "fzkWPAZTs1jS",
        "colab": {
          "base_uri": "https://localhost:8080/",
          "height": 626
        },
        "outputId": "afaf7e02-bdab-4590-d5e7-1fb10ff9b070"
      },
      "source": [
        "from sklearn.ensemble import GradientBoostingClassifier\n",
        "gbc = GradientBoostingClassifier()\n",
        "gbc.fit(x_train_std, y_train)\n",
        "gbc_pred = gbc.predict(x_test_std)\n",
        "gbc_accu = accuracy_score(y_test, gbc_pred)\n",
        "gbc_report = classification_report(y_test, gbc_pred)\n",
        "gbc_cm = confusion_matrix(y_test, gbc_pred)\n",
        "print('[7]Gradient Boost Classifier Performance:\\n')\n",
        "print('Accuracy:', gbc_accu)\n",
        "print('Classification Report:', gbc_report)\n",
        "plt.figure(figsize=(8,6))\n",
        "sns.heatmap(gbc_cm, annot = True, cmap='coolwarm', linewidths=0.2, fmt = \"d\");"
      ],
      "execution_count": 64,
      "outputs": [
        {
          "output_type": "stream",
          "text": [
            "[7]Gradient Boost Classifier Performance:\n",
            "\n",
            "Accuracy: 0.6175989532221132\n",
            "Classification Report:               precision    recall  f1-score   support\n",
            "\n",
            "     average       0.52      0.49      0.50       723\n",
            "        high       0.62      0.53      0.57       678\n",
            "         low       0.55      0.70      0.61       770\n",
            "   very high       0.36      0.22      0.27        92\n",
            "    very low       0.81      0.78      0.79       794\n",
            "\n",
            "    accuracy                           0.62      3057\n",
            "   macro avg       0.57      0.54      0.55      3057\n",
            "weighted avg       0.62      0.62      0.61      3057\n",
            "\n"
          ],
          "name": "stdout"
        },
        {
          "output_type": "display_data",
          "data": {
            "image/png": "[encoded data removed]",
            "text/plain": [
              "<Figure size 576x432 with 2 Axes>"
            ]
          },
          "metadata": {
            "tags": [],
            "needs_background": "light"
          }
        }
      ]
    },
    {
      "cell_type": "markdown",
      "metadata": {
        "id": "Wuo7u5jbApA9"
      },
      "source": [
        "### **Stacked Model and Result Preparation:**"
      ]
    },
    {
      "cell_type": "code",
      "metadata": {
        "id": "PMgSJ9Vds4tH"
      },
      "source": [
        "from sklearn.ensemble import RandomForestClassifier \n",
        "rf = RandomForestClassifier()\n",
        "rf.fit(x_train_std, y_train)\n",
        "rf_pred = rf.predict(x_test_std)"
      ],
      "execution_count": 65,
      "outputs": []
    },
    {
      "cell_type": "code",
      "metadata": {
        "id": "SuiN4tUGs65u"
      },
      "source": [
        "from xgboost import XGBClassifier\n",
        "xg = XGBClassifier(learning_rate= 0.04, n_estimators=450)\n",
        "xg.fit(x_train_std, y_train)\n",
        "xg_pred = xg.predict(x_test_std)"
      ],
      "execution_count": 66,
      "outputs": []
    },
    {
      "cell_type": "code",
      "metadata": {
        "id": "weSgAE4ns8R4"
      },
      "source": [
        "from sklearn.ensemble import AdaBoostClassifier\n",
        "ab = AdaBoostClassifier(learning_rate= 0.4, n_estimators= 200)\n",
        "ab.fit(x_train_std, y_train)\n",
        "ab_pred = ab.predict(x_test_std)"
      ],
      "execution_count": 67,
      "outputs": []
    },
    {
      "cell_type": "code",
      "metadata": {
        "id": "Cj3sxE56s9kL"
      },
      "source": [
        "x1 = []\n",
        "\n",
        "for i in range(len(rf_pred)):\n",
        "\n",
        "  if(rf_pred[i] == 'very low'):\n",
        "    x1.append(1)\n",
        "\n",
        "  if(rf_pred[i] == 'low'):\n",
        "    x1.append(2)\n",
        "\n",
        "  if(rf_pred[i] == 'average'):\n",
        "    x1.append(3)\n",
        "\n",
        "  if(rf_pred[i] == 'high'):\n",
        "    x1.append(4)\n",
        "\n",
        "  if(rf_pred[i] == 'very high'):\n",
        "    x1.append(5)"
      ],
      "execution_count": 68,
      "outputs": []
    },
    {
      "cell_type": "code",
      "metadata": {
        "id": "pJbJuL3rs_Ft"
      },
      "source": [
        "x2 = []\n",
        "\n",
        "for i in range(len(xg_pred)):\n",
        "\n",
        "  if(xg_pred[i] == 'very low'):\n",
        "    x2.append(1)\n",
        "\n",
        "  if(xg_pred[i] == 'low'):\n",
        "    x2.append(2)\n",
        "\n",
        "  if(xg_pred[i] == 'average'):\n",
        "    x2.append(3)\n",
        "\n",
        "  if(xg_pred[i] == 'high'):\n",
        "    x2.append(4)\n",
        "\n",
        "  if(xg_pred[i] == 'very high'):\n",
        "    x2.append(5)"
      ],
      "execution_count": 69,
      "outputs": []
    },
    {
      "cell_type": "code",
      "metadata": {
        "id": "sl8DJVaQtAPL"
      },
      "source": [
        "x3 = []\n",
        "\n",
        "for i in range(len(ab_pred)):\n",
        "\n",
        "  if(ab_pred[i] == 'very low'):\n",
        "    x3.append(1)\n",
        "\n",
        "  if(ab_pred[i] == 'low'):\n",
        "    x3.append(2)\n",
        "\n",
        "  if(ab_pred[i] == 'average'):\n",
        "    x3.append(3)\n",
        "\n",
        "  if(ab_pred[i] == 'high'):\n",
        "    x3.append(4)\n",
        "\n",
        "  if(ab_pred[i] == 'very high'):\n",
        "    x3.append(5)"
      ],
      "execution_count": 70,
      "outputs": []
    },
    {
      "cell_type": "code",
      "metadata": {
        "id": "HRGoRwKPtBkN"
      },
      "source": [
        "x = []\n",
        "\n",
        "for i in range(len(x_test_std)):\n",
        "  x.append(np.ceil(((x1[i] + x2[i] + x3[i]) / 3 )))"
      ],
      "execution_count": 71,
      "outputs": []
    },
    {
      "cell_type": "code",
      "metadata": {
        "id": "WnyhlPiLtDo_"
      },
      "source": [
        "pop = []\n",
        "for i in x:\n",
        "  if i == 1:\n",
        "    pop.append('very low')\n",
        "  if i == 2:\n",
        "    pop.append('low')\n",
        "  if i == 3:\n",
        "    pop.append('average')\n",
        "  if i == 4:\n",
        "    pop.append('high')\n",
        "  if i == 5:\n",
        "    pop.append('very high')"
      ],
      "execution_count": 72,
      "outputs": []
    },
    {
      "cell_type": "code",
      "metadata": {
        "id": "3P8hM45QtGfj"
      },
      "source": [
        "y_test = y_test.values"
      ],
      "execution_count": 73,
      "outputs": []
    },
    {
      "cell_type": "markdown",
      "metadata": {
        "id": "7HXttmvQAeFF"
      },
      "source": [
        "### **Final Result:**"
      ]
    },
    {
      "cell_type": "code",
      "metadata": {
        "id": "WTnaignbtLB8",
        "colab": {
          "base_uri": "https://localhost:8080/"
        },
        "outputId": "e557b636-8f5a-4c67-e04b-d45c964a1d72"
      },
      "source": [
        "r = 0\n",
        "b = 0\n",
        "\n",
        "\n",
        "for i in range(len(x_test)):\n",
        "  if(y_test[i] == 'very low'):\n",
        "    y = 1\n",
        "\n",
        "  if(y_test[i] == 'low'):\n",
        "    y = 2\n",
        "\n",
        "  if(y_test[i] == 'average'):\n",
        "    y = 3\n",
        "\n",
        "  if(y_test[i] == 'high'):\n",
        "    y = 4\n",
        "\n",
        "  if(y_test[i] == 'very high'):\n",
        "    y = 5\n",
        "  \n",
        "  if(x[i] >= y):\n",
        "    b += x[i]\n",
        "    r += 2 * y\n",
        "\n",
        "print('Revenue Earned:', r)\n",
        "print('Amount Bid:', b)\n",
        "print('Maximum amount that we can bid:', len(y_test) * 2.5)"
      ],
      "execution_count": 74,
      "outputs": [
        {
          "output_type": "stream",
          "text": [
            "Revenue Earned: 11136\n",
            "Amount Bid: 6469.0\n",
            "Maximum amount that we can bid: 7642.5\n"
          ],
          "name": "stdout"
        }
      ]
    },
    {
      "cell_type": "markdown",
      "metadata": {
        "id": "Wgqcl3AoASlG"
      },
      "source": [
        "### **GridSearch to Optimise Parameters:**"
      ]
    },
    {
      "cell_type": "code",
      "metadata": {
        "id": "UBur9B0htM0p"
      },
      "source": [
        "param_xg = {'learning_rate': [.03, 0.05, .07],\n",
        "              'max_depth': [5, 6, 7],\n",
        "              'min_child_weight': [4, 5, 6],\n",
        "              'subsample': [0.7, 0.8, 0.9],\n",
        "              'colsample_bytree': [0.7, 0.8, 0.9],}"
      ],
      "execution_count": 75,
      "outputs": []
    },
    {
      "cell_type": "code",
      "metadata": {
        "id": "dr9ltK99tZbP"
      },
      "source": [
        "from xgboost import XGBClassifier\n",
        "from sklearn.model_selection import GridSearchCV\n",
        "xg = XGBClassifier()\n",
        "xg_gs= GridSearchCV(xg, param_xg)\n",
        "xg_gs.fit(x_train_std, y_train)\n",
        "xg_gs_pred = xg_gs.predict(x_test_std)\n",
        "xg_gs_accu = accuracy_score(y_test, xg_gs_pred)\n",
        "xg_gs_report = classification_report(y_test, xg_gs_pred)\n",
        "xg_gs_cm = confusion_matrix(y_test, xg_gs_pred)\n",
        "print('xgBoost Classifier Performance:\\n')\n",
        "print('Accuracy:', xg_gs_accu)\n",
        "print('Classification Report:', xg_gs_report)\n",
        "plt.figure(figsize=(8,6))\n",
        "sns.heatmap(xg_gs_cm, annot = True, cmap='coolwarm', linewidths=0.2, fmt = \"d\");"
      ],
      "execution_count": null,
      "outputs": []
    },
    {
      "cell_type": "code",
      "metadata": {
        "id": "o94LoZsutd_V"
      },
      "source": [
        "xg_gs.best_params_"
      ],
      "execution_count": null,
      "outputs": []
    }
  ]
}